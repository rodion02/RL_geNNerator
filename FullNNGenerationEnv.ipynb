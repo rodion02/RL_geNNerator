{
  "nbformat": 4,
  "nbformat_minor": 0,
  "metadata": {
    "colab": {
      "provenance": []
    },
    "kernelspec": {
      "name": "python3",
      "display_name": "Python 3"
    },
    "language_info": {
      "name": "python"
    }
  },
  "cells": [
    {
      "cell_type": "code",
      "execution_count": 109,
      "metadata": {
        "id": "CSOE0Jo14KFl"
      },
      "outputs": [],
      "source": [
        "import gym\n",
        "from gym import error, spaces, utils\n",
        "from gym.utils import seeding\n",
        "import numpy as np\n",
        "import math\n",
        "import matplotlib.pyplot as plt\n",
        "from matplotlib import colors\n",
        "import random\n",
        "import sys\n",
        "import torch\n",
        "from torch import nn\n",
        "from torch.nn import functional as F\n",
        "import torchvision.datasets as dsets\n",
        "import torchvision.transforms as transforms\n",
        "from tqdm import tqdm\n",
        "from torch.utils.data import Dataset\n"
      ]
    },
    {
      "cell_type": "code",
      "source": [
        "batch_size=32\n",
        "device='cpu'\n",
        "lr=0.0001"
      ],
      "metadata": {
        "id": "cK0NuHbBlLr0"
      },
      "execution_count": 85,
      "outputs": []
    },
    {
      "cell_type": "code",
      "source": [
        "class env():\n",
        "  metadata = {'render_modes': ['human']}\n",
        "\n",
        "  actions_set = {\n",
        "                # increase channels with kernel 3\n",
        "                'conv=channel_factor:2,kernel_size:3,stride:1,padding:0-',\n",
        "                'conv=channel_factor:4,kernel_size:3,stride:1,padding:0-',\n",
        "                'conv=channel_factor:8,kernel_size:3,stride:1,padding:0-',\n",
        "                #'conv=channel_factor:16,kernel_size:3,stride:1,padding:0-',\n",
        "                # increase channels with kernel 5\n",
        "                'conv=channel_factor:2,kernel_size:5,stride:1,padding:0-',\n",
        "                'conv=channel_factor:4,kernel_size:5,stride:1,padding:0-',\n",
        "                'conv=channel_factor:8,kernel_size:5,stride:1,padding:0-',\n",
        "                #'conv=channel_factor:16,kernel_size:5,stride:1,padding:0-',\n",
        "                # increase channels with kernel 7\n",
        "                'conv=channel_factor:2,kernel_size:7,stride:1,padding:0-',\n",
        "                'conv=channel_factor:4,kernel_size:7,stride:1,padding:0-',\n",
        "                'conv=channel_factor:8,kernel_size:7,stride:1,padding:0-',\n",
        "                #'conv=channel_factor:16,kernel_size:7,stride:1,padding:0-',\n",
        "\n",
        "                # decrease channels with kernel 3\n",
        "                #'conv=channel_factor:0.1,kernel_size:3,stride:1,padding:0-',\n",
        "                #'conv=channel_factor:0.2,kernel_size:3,stride:1,padding:0-',\n",
        "                'conv=channel_factor:0.4,kernel_size:3,stride:1,padding:0-',\n",
        "                'conv=channel_factor:0.8,kernel_size:3,stride:1,padding:0-',\n",
        "                # decrease channels with kernel 5\n",
        "                #'conv=channel_factor:0.1,kernel_size:5,stride:1,padding:0-',\n",
        "                #'conv=channel_factor:0.2,kernel_size:5,stride:1,padding:0-',\n",
        "                'conv=channel_factor:0.4,kernel_size:5,stride:1,padding:0-',\n",
        "                'conv=channel_factor:0.8,kernel_size:5,stride:1,padding:0-',\n",
        "                # decrease channels with kernel 7\n",
        "                #'conv=channel_factor:0.1,kernel_size:3,stride:1,padding:0-',\n",
        "                #'conv=channel_factor:0.2,kernel_size:3,stride:1,padding:0-',\n",
        "                'conv=channel_factor:0.4,kernel_size:3,stride:1,padding:0-',\n",
        "                'conv=channel_factor:0.8,kernel_size:3,stride:1,padding:0-',\n",
        "\n",
        "\n",
        "                 'batchnorm=eps:0.00001-',\n",
        "\n",
        "                 'avgpool=kernel_size:2,stride:2,padding:0-',\n",
        "\n",
        "                 'maxpool=kernel_size:2,stride:2,padding:0-',\n",
        "\n",
        "\n",
        "                 'dropout=p:0.1-',\n",
        "                 'dropout=p:0.2-',\n",
        "                 'dropout=p:0.3-',\n",
        "                 'dropout=p:0.4-',\n",
        "  }\n",
        "\n",
        "  NN_CREATE_SUCCESS_REWARD = 5\n",
        "  NN_CREATE_NOT_SUCCESS_PENALTY = -5\n",
        "\n",
        "\n",
        "  def __init__(self, render_mode=None):\n",
        "      self.max_its = 10\n",
        "      self.current_it = 1\n",
        "      self.episode_reward = 0\n",
        "      #self.last_layer_shape = None\n",
        "\n",
        "      self.ENV_PARAMS = {\n",
        "          'iteration': 1,\n",
        "          'max_its': 10,\n",
        "          'episode_reward': 0,\n",
        "          'actions_amount': len(self.actions_set),\n",
        "      }\n",
        "\n",
        "      self.NN_PARAMS = {\n",
        "          'train_epochs': 10,\n",
        "          'last_nets_metrics_memory_len': 10,\n",
        "          'max_layers_amount': 10,\n",
        "          'min_layers_amount': 3,\n",
        "          'in_channels': 1,\n",
        "      }\n",
        "      self.NN_PARAMS['metrics'] = {'valid_losses': np.array([0] * self.NN_PARAMS['train_epochs']),\n",
        "                      'train_losses': np.array([0] * self.NN_PARAMS['train_epochs']),\n",
        "                     }\n",
        "\n",
        "\n",
        "      self.Net = self.NN(self.NN_PARAMS['in_channels'])\n",
        "      self.train_dataloader = None\n",
        "      self.train_dataloader = None\n",
        "      self.optimizer_class = None\n",
        "      self.optimizer = None\n",
        "      self.criterion = None\n",
        "\n",
        "      self.nngenerator = self.nnGenerator()\n",
        "\n",
        "      self.last_obs = None\n",
        "\n",
        "      self.action_space = spaces.Text(\n",
        "          max_length=self.NN_PARAMS['max_layers_amount'],\n",
        "          min_length=self.NN_PARAMS['min_layers_amount'],\n",
        "          charset=self.actions_set)\n",
        "\n",
        "      self.observation_space = spaces.Dict(\n",
        "          {\n",
        "          'last_nets_metrics_memory': spaces.Box(\n",
        "              low=0,\n",
        "              high=1,\n",
        "              shape=(self.NN_PARAMS['last_nets_metrics_memory_len'],\n",
        "                     self.NN_PARAMS['train_epochs'],\n",
        "                     len(self.NN_PARAMS['metrics'].keys()),\n",
        "                     )),\n",
        "\n",
        "          }\n",
        "      )\n",
        "      self.statistics = {\n",
        "        'episode_rewards': [],\n",
        "        'global_rewards': [],\n",
        "        'made_steps': [],\n",
        "      }\n",
        "\n",
        "      self.seed()\n",
        "      assert render_mode is None or render_mode in self.metadata[\"render_modes\"]\n",
        "      self.render_mode = render_mode\n",
        "\n",
        "\n",
        "  class NN(nn.Module):\n",
        "\n",
        "    def __init__(self, in_channels):\n",
        "      super().__init__()\n",
        "\n",
        "      self.backbone = nn.Sequential()\n",
        "      self.softmax = nn.Softmax(dim=1)\n",
        "\n",
        "    def forward(self, x):\n",
        "      x = self.backbone(x)\n",
        "      out = self.softmax(x)\n",
        "      return out\n",
        "\n",
        "    def __call__(self, x):\n",
        "      return self.forward(x)\n",
        "\n",
        "  def set_train_dataloader(self, train_dataloader):\n",
        "    self.train_dataloader = train_dataloader\n",
        "\n",
        "  def set_valid_dataloader(self, valid_dataloader):\n",
        "    self.valid_dataloader = valid_dataloader\n",
        "\n",
        "  def set_criterion(self, criterion):\n",
        "    self.criterion = criterion\n",
        "\n",
        "  def set_optimizer(self, optimizer):\n",
        "    self.optimizer_class = optimizer\n",
        "\n",
        "  def train(self):\n",
        "    train_losses = []\n",
        "    valid_losses = []\n",
        "    # TODO calculate metrics and return them after train\n",
        "    def CalcValLoss(self):\n",
        "        with torch.no_grad():\n",
        "            losses = []\n",
        "            for X, Y in self.valid_dataloader:\n",
        "                X = X.float().to(device)\n",
        "                Y = Y.float().to(device)\n",
        "                preds = self.Net(X)\n",
        "                preds, _ = torch.max(preds,1)\n",
        "                loss = self.criterion(preds,Y)\n",
        "                losses.append(loss.item())\n",
        "            print(\"Valid Loss : {:.6f}\".format(torch.tensor(losses).mean()))\n",
        "            valid_losses.append(torch.tensor(losses).mean())\n",
        "\n",
        "    for i in range(1, self.NN_PARAMS['train_epochs']):\n",
        "        losses = []\n",
        "        for X, Y in tqdm(self.train_dataloader):\n",
        "            X = X.float().to(device)\n",
        "            Y = Y.float().to(device)\n",
        "            preds = self.Net(X)\n",
        "            preds, _ = torch.max(preds,1)\n",
        "            loss = self.criterion(preds, Y)\n",
        "            losses.append(loss.item())\n",
        "\n",
        "            self.optimizer.zero_grad()\n",
        "            loss.backward()\n",
        "            self.optimizer.step()\n",
        "\n",
        "        print(\"Train Loss : {:.6f}\".format(torch.tensor(losses).mean()))\n",
        "        train_losses.append(torch.tensor(losses).mean())\n",
        "\n",
        "    # update all required NN metrics\n",
        "    self.NN_PARAMS['metrics']['train_losses'] = train_losses\n",
        "    self.NN_PARAMS['metrics']['valid_losses'] = valid_losses\n",
        "\n",
        "  class nnGenerator():\n",
        "    def __init__(self):\n",
        "      self.text_layers_dict = dict({})\n",
        "      self.nn_len = -1\n",
        "\n",
        "    def parse_action(self, action):\n",
        "      print(action)\n",
        "      if action[-1] == '-':\n",
        "        action = action[:-1]\n",
        "      text_layers = action.split('-')\n",
        "      id = 0\n",
        "      for text_layer in text_layers:\n",
        "        tmp = text_layer.split('=')\n",
        "        layer_name, layer_params = tmp[0], tmp[1].split(',')\n",
        "        layer_params_dict = dict({})\n",
        "        for param in layer_params:\n",
        "          param = param.split(':')\n",
        "          param_name, param_value = param[0], param[1]\n",
        "          layer_params_dict[param_name] = param_value\n",
        "        self.text_layers_dict[layer_name + str(id)] = (id, layer_params_dict)\n",
        "        id += 1\n",
        "      print(self.text_layers_dict)\n",
        "\n",
        "    def get_text_layers_dict(self):\n",
        "      return self.text_layers_dict\n",
        "\n",
        "    def get_nn_len(self):\n",
        "      return self.nn_len\n",
        "\n",
        "    def conv_output_shape(self, h, w, kernel_size=1, stride=1, pad=0, dilation=1):\n",
        "      h = math.floor( ((h + (2 * pad) - ( dilation * (kernel_size - 1) ) - 1 )/ stride) + 1)\n",
        "      w = math.floor( ((w + (2 * pad) - ( dilation * (kernel_size - 1) ) - 1 )/ stride) + 1)\n",
        "      return h, w\n",
        "\n",
        "    def generateNN(self, n_classes, test_batch): # -> nn.Sequential\n",
        "      # returns success_state, backbone and classifier of nn, nn.Sequential\n",
        "      # if impossible to create nn, success_state = False\n",
        "      success_state = False\n",
        "      # TODO\n",
        "\n",
        "      # update self.nn_len if created correctly\n",
        "\n",
        "      backbone = nn.Sequential()\n",
        "      classifier = nn.Sequential()\n",
        "      optimizer = None\n",
        "      try:\n",
        "        data_shape = np.array(test_batch).shape # [B, C, H, W]\n",
        "        last_shape = data_shape\n",
        "        for layer_name in self.text_layers_dict.keys():\n",
        "            layer = None\n",
        "            layer_params= self.text_layers_dict[layer_name][1] # [0] - id\n",
        "            if layer_name.find('conv') >= 0:\n",
        "              # 'conv=channel_factor:2,kernel_size:5,stride:1,padding:0-',\n",
        "              kernel_size = int(layer_params['kernel_size'])\n",
        "              channel_factor = float(layer_params['channel_factor'])\n",
        "              stride = int(layer_params['stride'])\n",
        "              padding = int(layer_params['padding'])\n",
        "              dilation = 1\n",
        "\n",
        "              activation = nn.ReLU(inplace=True)\n",
        "\n",
        "              in_chan = last_shape[1]\n",
        "              out_chan = max(math.floor(in_chan * channel_factor), 1)\n",
        "\n",
        "              backbone.append(nn.Conv2d(in_chan, out_chan, kernel_size, stride, padding, dilation))\n",
        "              backbone.append(activation)\n",
        "\n",
        "              h, w = self.conv_output_shape(last_shape[2], last_shape[3], kernel_size, stride, padding, dilation)\n",
        "              last_shape = (last_shape[0], out_chan, h, w)\n",
        "\n",
        "            elif layer_name.find('batchnorm') >= 0:\n",
        "              eps = float(layer_params['eps'])\n",
        "              in_chan = last_shape[1]\n",
        "              backbone.append(nn.BatchNorm2d(in_chan, eps))\n",
        "\n",
        "            elif layer_name.find('avgpool') >= 0:\n",
        "              # 'avgpool=kernel_size:2,stride:2,padding:0-',\n",
        "              kernel_size = int(layer_params['kernel_size'])\n",
        "              stride = int(layer_params['stride'])\n",
        "              padding = int(layer_params['padding'])\n",
        "              dilation = 1\n",
        "              out_chan = last_shape[1]\n",
        "              backbone.append(nn.AvgPool2d(kernel_size, stride, padding))\n",
        "\n",
        "              h, w = self.conv_output_shape(last_shape[2], last_shape[3], kernel_size, stride, padding, dilation)\n",
        "              last_shape = (last_shape[0], out_chan, h, w)\n",
        "\n",
        "\n",
        "            elif layer_name.find('maxpool') >= 0:\n",
        "              # 'maxpool=kernel_size:2,stride:2,padding:0-',\n",
        "              kernel_size = int(layer_params['kernel_size'])\n",
        "              stride = int(layer_params['stride'])\n",
        "              padding = int(layer_params['padding'])\n",
        "              dilation = 1\n",
        "\n",
        "              backbone.append(nn.MaxPool2d(kernel_size, stride, padding))\n",
        "\n",
        "              h, w = self.conv_output_shape(last_shape[2], last_shape[3], kernel_size, stride, padding, dilation)\n",
        "              last_shape = (last_shape[0], out_chan, h, w)\n",
        "\n",
        "            elif layer_name.find('dropout') >= 0:\n",
        "              p = float(layer_params['p'])\n",
        "              backbone.append(nn.Dropout2d(p))\n",
        "        linear_in_shape = last_shape[1] * last_shape[2] * last_shape[3]\n",
        "        classifier = nn.Linear(linear_in_shape, n_classes)\n",
        "        success_state = True\n",
        "        print('NN build successfull!')\n",
        "      except Exception as e:\n",
        "        print('NN build failed!')\n",
        "        print(str(e))\n",
        "      net = nn.Sequential()\n",
        "      net.append(backbone)\n",
        "      net.append(nn.Flatten(start_dim=1))\n",
        "      net.append(classifier)\n",
        "      self.text_layers_dict = dict({})\n",
        "      return success_state, net\n",
        "\n",
        "\n",
        "  def seed(self, seed=None):\n",
        "      self.np_random, seed = seeding.np_random(seed)\n",
        "      return [seed]\n",
        "\n",
        "\n",
        "  def calc_reward(self, nn_created_correctly_flag, nn_len, last_train_metrics):\n",
        "    reward = 0\n",
        "    # reward for decreasing nn depth\n",
        "    optimal_depth_reward = 0\n",
        "    # reward by metrics\n",
        "    metrics_optimization_reward = 0\n",
        "    # reward for successfull nn creation\n",
        "    creation_successfull_reward = 0\n",
        "    if nn_created_correctly_flag == True:\n",
        "      # do not reward agent if creation is not succeed\n",
        "      creation_successfull_reward += self.NN_CREATE_SUCCESS_REWARD\n",
        "      # TODO\n",
        "      metrics_optimization_reward += 1\n",
        "      # TODO\n",
        "      optimal_depth_reward\n",
        "\n",
        "    else:\n",
        "      creation_successfull_reward += self.NN_CREATE_NOT_SUCCESS_PENALTY\n",
        "\n",
        "    reward += optimal_depth_reward\n",
        "    reward += metrics_optimization_reward\n",
        "    reward += creation_successfull_reward\n",
        "\n",
        "    return reward\n",
        "\n",
        "  def get_test_batch(self):\n",
        "    batch = None\n",
        "    for  b, _ in train_dataloader:\n",
        "      batch = b\n",
        "    return batch\n",
        "\n",
        "  def create_obs(self):\n",
        "    # TODO create new observation using\n",
        "    # self.NN_PARAMS['metrics'] and self.last_obs\n",
        "    obs = np.zeros((\n",
        "              self.NN_PARAMS['last_nets_metrics_memory_len'],\n",
        "              self.NN_PARAMS['train_epochs'],\n",
        "              len(self.NN_PARAMS['metrics'].keys()),\n",
        "             ) )\n",
        "    return obs\n",
        "\n",
        "  def step(self, action):\n",
        "      reward = 0\n",
        "      done = False\n",
        "      info = {} # You may need to add some extra information\n",
        "\n",
        "      '''\n",
        "      1) parse action\n",
        "      2) generate NN\n",
        "      3) (optionally) update optimizer, prepare for training\n",
        "      4) train NN, collect metrics\n",
        "      5) calculate reward\n",
        "      6) collect statistics\n",
        "      7) create new observation\n",
        "      8) return obs, reward, done, info\n",
        "      '''\n",
        "      reward = 0\n",
        "\n",
        "      self.nngenerator.parse_action(action)\n",
        "      test_b = self.get_test_batch()\n",
        "      success_state, net = self.nngenerator.generateNN(n_classes=10, test_batch=test_b)\n",
        "      # def generateNN(self, lr, n_classes, optimizer_class, test_batch):\n",
        "      if success_state == True: # NN created_correctly\n",
        "        self.Net.backbone = net\n",
        "        display(self.Net)\n",
        "        self.optimizer = self.optimizer_class(self.Net.parameters(), lr=0.001)\n",
        "        self.train()\n",
        "\n",
        "\n",
        "      reward = self.calc_reward(success_state,\n",
        "                                self.nngenerator.get_nn_len(),\n",
        "                                self.NN_PARAMS['metrics'],\n",
        "                                )\n",
        "\n",
        "      # TODO generate new observation\n",
        "      new_obs = self.create_obs()\n",
        "\n",
        "      current_obs = {\n",
        "          'last_nets_metrics_memory': new_obs\n",
        "          }\n",
        "\n",
        "      self.last_obs = new_obs\n",
        "\n",
        "      self.episode_reward = reward\n",
        "      self.current_it += 1\n",
        "      return current_obs, reward, done, info\n",
        "\n",
        "\n",
        "  def reset(self):\n",
        "      '''\n",
        "      Reset the env\n",
        "      '''\n",
        "      # clearify all changable vars\n",
        "      self.Net = self.NN(10)\n",
        "      # self.criterion = None\n",
        "      # may be it's better to set random number over zeros\n",
        "      current_obs = {\n",
        "          'last_nets_metrics_memory': np.zeros((\n",
        "              self.NN_PARAMS['last_nets_metrics_memory_len'],\n",
        "              self.NN_PARAMS['train_epochs'],\n",
        "              len(self.NN_PARAMS['metrics'].keys()),\n",
        "             ) )\n",
        "          }\n",
        "      self.last_obs = current_obs\n",
        "      self.episode_reward = 0\n",
        "      self.current_it = 1\n",
        "\n",
        "      self.statistics['episode_rewards'] = []\n",
        "      self.statistics['made_steps'] = []\n",
        "\n",
        "      return current_obs\n",
        "\n",
        "\n",
        "\n",
        "  def render(self, mode=None):\n",
        "    #TODO visualization\n",
        "    pass\n",
        "\n",
        "\n",
        "  def close(self):\n",
        "      pass"
      ],
      "metadata": {
        "id": "NFb8q3Fw4SCe"
      },
      "execution_count": 622,
      "outputs": []
    },
    {
      "cell_type": "code",
      "source": [
        "e = env()"
      ],
      "metadata": {
        "id": "jxpdwXgpN2AW"
      },
      "execution_count": 623,
      "outputs": []
    },
    {
      "cell_type": "code",
      "source": [
        "train_data = dsets.MNIST(root = './data', train = True,\n",
        "                        transform = transforms.ToTensor(), download = True)\n",
        "\n",
        "test_data = dsets.MNIST(root = './data', train = False,\n",
        "                       transform = transforms.ToTensor())"
      ],
      "metadata": {
        "id": "SXe_a9lvoqyO"
      },
      "execution_count": 624,
      "outputs": []
    },
    {
      "cell_type": "code",
      "source": [
        "train_samples = np.expand_dims(np.array(train_data.data), axis=1)[:5000]"
      ],
      "metadata": {
        "id": "xK-hNsEiqdcS"
      },
      "execution_count": 625,
      "outputs": []
    },
    {
      "cell_type": "code",
      "source": [
        "train_labels = np.array(train_data.targets)[:5000]"
      ],
      "metadata": {
        "id": "r-aDhO7qq2kT"
      },
      "execution_count": 626,
      "outputs": []
    },
    {
      "cell_type": "code",
      "source": [
        "\n",
        "class myDataset(Dataset):\n",
        "    def __init__(self, X, y):\n",
        "\n",
        "      self.X = X\n",
        "      self.y = y\n",
        "\n",
        "    def __len__(self):\n",
        "        return len(self.y)\n",
        "\n",
        "    def __getitem__(self, idx):\n",
        "        x_ = self.X[idx]\n",
        "        y_ = self.y[idx]\n",
        "        return x_, y_"
      ],
      "metadata": {
        "id": "NiJku9rmrHy6"
      },
      "execution_count": 627,
      "outputs": []
    },
    {
      "cell_type": "code",
      "source": [
        "dataset = myDataset(X=train_samples, y=train_labels)"
      ],
      "metadata": {
        "id": "mAjrBApqruzk"
      },
      "execution_count": 628,
      "outputs": []
    },
    {
      "cell_type": "code",
      "source": [
        "train_set, valid_set = torch.utils.data.random_split(dataset, [0.8, 0.2], generator=torch.Generator().manual_seed(42))"
      ],
      "metadata": {
        "id": "a0N1KCO0rbFV"
      },
      "execution_count": 629,
      "outputs": []
    },
    {
      "cell_type": "code",
      "source": [
        "\n",
        "train_dataloader = torch.utils.data.DataLoader(\n",
        "  train_set,\n",
        "  batch_size=batch_size,\n",
        "  shuffle=True,\n",
        "  drop_last=True)\n",
        "\n",
        "valid_dataloader = torch.utils.data.DataLoader(\n",
        "  valid_set,\n",
        "  batch_size=batch_size,\n",
        "  drop_last=True,\n",
        "  shuffle=True)"
      ],
      "metadata": {
        "id": "ZWZugDc2rrtL"
      },
      "execution_count": 630,
      "outputs": []
    },
    {
      "cell_type": "code",
      "source": [
        "e.set_train_dataloader(train_dataloader)\n",
        "e.set_valid_dataloader(valid_dataloader)"
      ],
      "metadata": {
        "id": "KidTZzShr2v7"
      },
      "execution_count": 631,
      "outputs": []
    },
    {
      "cell_type": "code",
      "source": [
        "e.set_criterion(torch.nn.CrossEntropyLoss())\n",
        "e.set_optimizer(torch.optim.SGD)"
      ],
      "metadata": {
        "id": "H9WTNWQntXN3"
      },
      "execution_count": 632,
      "outputs": []
    },
    {
      "cell_type": "code",
      "source": [
        "e.reset();"
      ],
      "metadata": {
        "id": "I9csHfjhQ7ZV"
      },
      "execution_count": 633,
      "outputs": []
    },
    {
      "cell_type": "code",
      "source": [
        "t = spaces.Text(max_length=8, min_length=7,charset=e.actions_set)\n",
        "action = t.sample()\n",
        "print(action)"
      ],
      "metadata": {
        "colab": {
          "base_uri": "https://localhost:8080/"
        },
        "id": "fQWgNe4eVMov",
        "outputId": "1d42a929-85db-429d-fda0-ad61a317bd48"
      },
      "execution_count": 634,
      "outputs": [
        {
          "output_type": "stream",
          "name": "stdout",
          "text": [
            "conv=channel_factor:0.8,kernel_size:5,stride:1,padding:0-conv=channel_factor:2,kernel_size:3,stride:1,padding:0-conv=channel_factor:0.4,kernel_size:3,stride:1,padding:0-dropout=p:0.4-conv=channel_factor:2,kernel_size:7,stride:1,padding:0-conv=channel_factor:8,kernel_size:7,stride:1,padding:0-conv=channel_factor:4,kernel_size:3,stride:1,padding:0-maxpool=kernel_size:2,stride:2,padding:0-\n"
          ]
        }
      ]
    },
    {
      "cell_type": "code",
      "source": [
        "e.reset();"
      ],
      "metadata": {
        "id": "ludypuj2YPpR"
      },
      "execution_count": 635,
      "outputs": []
    },
    {
      "cell_type": "code",
      "source": [
        "r = e.step(action)"
      ],
      "metadata": {
        "colab": {
          "base_uri": "https://localhost:8080/",
          "height": 800
        },
        "id": "qQd1N44fQ87v",
        "outputId": "1d2f5526-c546-43ef-aa78-e7041727dd00"
      },
      "execution_count": 636,
      "outputs": [
        {
          "output_type": "stream",
          "name": "stdout",
          "text": [
            "conv=channel_factor:0.8,kernel_size:5,stride:1,padding:0-conv=channel_factor:2,kernel_size:3,stride:1,padding:0-conv=channel_factor:0.4,kernel_size:3,stride:1,padding:0-dropout=p:0.4-conv=channel_factor:2,kernel_size:7,stride:1,padding:0-conv=channel_factor:8,kernel_size:7,stride:1,padding:0-conv=channel_factor:4,kernel_size:3,stride:1,padding:0-maxpool=kernel_size:2,stride:2,padding:0-\n",
            "{'conv0': (0, {'channel_factor': '0.8', 'kernel_size': '5', 'stride': '1', 'padding': '0'}), 'conv1': (1, {'channel_factor': '2', 'kernel_size': '3', 'stride': '1', 'padding': '0'}), 'conv2': (2, {'channel_factor': '0.4', 'kernel_size': '3', 'stride': '1', 'padding': '0'}), 'dropout3': (3, {'p': '0.4'}), 'conv4': (4, {'channel_factor': '2', 'kernel_size': '7', 'stride': '1', 'padding': '0'}), 'conv5': (5, {'channel_factor': '8', 'kernel_size': '7', 'stride': '1', 'padding': '0'}), 'conv6': (6, {'channel_factor': '4', 'kernel_size': '3', 'stride': '1', 'padding': '0'}), 'maxpool7': (7, {'kernel_size': '2', 'stride': '2', 'padding': '0'})}\n",
            "NN build successfull!\n"
          ]
        },
        {
          "output_type": "display_data",
          "data": {
            "text/plain": [
              "NN(\n",
              "  (backbone): Sequential(\n",
              "    (0): Sequential(\n",
              "      (0): Conv2d(1, 1, kernel_size=(5, 5), stride=(1, 1))\n",
              "      (1): ReLU(inplace=True)\n",
              "      (2): Conv2d(1, 2, kernel_size=(3, 3), stride=(1, 1))\n",
              "      (3): ReLU(inplace=True)\n",
              "      (4): Conv2d(2, 1, kernel_size=(3, 3), stride=(1, 1))\n",
              "      (5): ReLU(inplace=True)\n",
              "      (6): Dropout2d(p=0.4, inplace=False)\n",
              "      (7): Conv2d(1, 2, kernel_size=(7, 7), stride=(1, 1))\n",
              "      (8): ReLU(inplace=True)\n",
              "      (9): Conv2d(2, 16, kernel_size=(7, 7), stride=(1, 1))\n",
              "      (10): ReLU(inplace=True)\n",
              "      (11): Conv2d(16, 64, kernel_size=(3, 3), stride=(1, 1))\n",
              "      (12): ReLU(inplace=True)\n",
              "      (13): MaxPool2d(kernel_size=2, stride=2, padding=0, dilation=1, ceil_mode=False)\n",
              "    )\n",
              "    (1): Flatten(start_dim=1, end_dim=-1)\n",
              "    (2): Linear(in_features=576, out_features=10, bias=True)\n",
              "  )\n",
              "  (softmax): Softmax(dim=1)\n",
              ")"
            ]
          },
          "metadata": {}
        },
        {
          "output_type": "stream",
          "name": "stderr",
          "text": [
            "100%|██████████| 125/125 [00:02<00:00, 62.19it/s]\n"
          ]
        },
        {
          "output_type": "stream",
          "name": "stdout",
          "text": [
            "Train Loss : 491.494354\n"
          ]
        },
        {
          "output_type": "stream",
          "name": "stderr",
          "text": [
            "100%|██████████| 125/125 [00:01<00:00, 63.10it/s]\n"
          ]
        },
        {
          "output_type": "stream",
          "name": "stdout",
          "text": [
            "Train Loss : 489.170044\n"
          ]
        },
        {
          "output_type": "stream",
          "name": "stderr",
          "text": [
            "100%|██████████| 125/125 [00:02<00:00, 62.10it/s]\n"
          ]
        },
        {
          "output_type": "stream",
          "name": "stdout",
          "text": [
            "Train Loss : 487.260712\n"
          ]
        },
        {
          "output_type": "stream",
          "name": "stderr",
          "text": [
            "100%|██████████| 125/125 [00:01<00:00, 62.75it/s]\n"
          ]
        },
        {
          "output_type": "stream",
          "name": "stdout",
          "text": [
            "Train Loss : 484.343903\n"
          ]
        },
        {
          "output_type": "stream",
          "name": "stderr",
          "text": [
            "100%|██████████| 125/125 [00:02<00:00, 45.73it/s]\n"
          ]
        },
        {
          "output_type": "stream",
          "name": "stdout",
          "text": [
            "Train Loss : 483.175934\n"
          ]
        },
        {
          "output_type": "stream",
          "name": "stderr",
          "text": [
            "100%|██████████| 125/125 [00:01<00:00, 63.16it/s]\n"
          ]
        },
        {
          "output_type": "stream",
          "name": "stdout",
          "text": [
            "Train Loss : 482.926056\n"
          ]
        },
        {
          "output_type": "stream",
          "name": "stderr",
          "text": [
            "100%|██████████| 125/125 [00:02<00:00, 62.15it/s]\n"
          ]
        },
        {
          "output_type": "stream",
          "name": "stdout",
          "text": [
            "Train Loss : 482.084290\n"
          ]
        },
        {
          "output_type": "stream",
          "name": "stderr",
          "text": [
            "100%|██████████| 125/125 [00:01<00:00, 63.04it/s]\n"
          ]
        },
        {
          "output_type": "stream",
          "name": "stdout",
          "text": [
            "Train Loss : 482.304779\n"
          ]
        },
        {
          "output_type": "stream",
          "name": "stderr",
          "text": [
            "100%|██████████| 125/125 [00:02<00:00, 62.42it/s]"
          ]
        },
        {
          "output_type": "stream",
          "name": "stdout",
          "text": [
            "Train Loss : 481.738403\n"
          ]
        },
        {
          "output_type": "stream",
          "name": "stderr",
          "text": [
            "\n"
          ]
        }
      ]
    },
    {
      "cell_type": "code",
      "source": [],
      "metadata": {
        "id": "cdNJfVL_UOw6"
      },
      "execution_count": null,
      "outputs": []
    },
    {
      "cell_type": "code",
      "source": [],
      "metadata": {
        "id": "lvGw9cd8S5NI"
      },
      "execution_count": null,
      "outputs": []
    },
    {
      "cell_type": "code",
      "source": [
        "e.train()"
      ],
      "metadata": {
        "colab": {
          "base_uri": "https://localhost:8080/",
          "height": 315
        },
        "id": "I0XVTudLr_zQ",
        "outputId": "8f24837e-8065-4835-d233-e7807f81339f"
      },
      "execution_count": 262,
      "outputs": [
        {
          "output_type": "stream",
          "name": "stderr",
          "text": [
            "  0%|          | 0/125 [00:00<?, ?it/s]\n"
          ]
        },
        {
          "output_type": "error",
          "ename": "TypeError",
          "evalue": "ignored",
          "traceback": [
            "\u001b[0;31m---------------------------------------------------------------------------\u001b[0m",
            "\u001b[0;31mTypeError\u001b[0m                                 Traceback (most recent call last)",
            "\u001b[0;32m<ipython-input-262-6672ac0176eb>\u001b[0m in \u001b[0;36m<cell line: 1>\u001b[0;34m()\u001b[0m\n\u001b[0;32m----> 1\u001b[0;31m \u001b[0me\u001b[0m\u001b[0;34m.\u001b[0m\u001b[0mtrain\u001b[0m\u001b[0;34m(\u001b[0m\u001b[0;34m)\u001b[0m\u001b[0;34m\u001b[0m\u001b[0;34m\u001b[0m\u001b[0m\n\u001b[0m",
            "\u001b[0;32m<ipython-input-249-88516ea50cd2>\u001b[0m in \u001b[0;36mtrain\u001b[0;34m(self)\u001b[0m\n\u001b[1;32m    174\u001b[0m             \u001b[0mX\u001b[0m \u001b[0;34m=\u001b[0m \u001b[0mX\u001b[0m\u001b[0;34m.\u001b[0m\u001b[0mfloat\u001b[0m\u001b[0;34m(\u001b[0m\u001b[0;34m)\u001b[0m\u001b[0;34m.\u001b[0m\u001b[0mto\u001b[0m\u001b[0;34m(\u001b[0m\u001b[0mdevice\u001b[0m\u001b[0;34m)\u001b[0m\u001b[0;34m\u001b[0m\u001b[0;34m\u001b[0m\u001b[0m\n\u001b[1;32m    175\u001b[0m             \u001b[0mY\u001b[0m \u001b[0;34m=\u001b[0m \u001b[0mY\u001b[0m\u001b[0;34m.\u001b[0m\u001b[0mfloat\u001b[0m\u001b[0;34m(\u001b[0m\u001b[0;34m)\u001b[0m\u001b[0;34m.\u001b[0m\u001b[0mto\u001b[0m\u001b[0;34m(\u001b[0m\u001b[0mdevice\u001b[0m\u001b[0;34m)\u001b[0m\u001b[0;34m\u001b[0m\u001b[0;34m\u001b[0m\u001b[0m\n\u001b[0;32m--> 176\u001b[0;31m             \u001b[0mpreds\u001b[0m \u001b[0;34m=\u001b[0m \u001b[0mself\u001b[0m\u001b[0;34m.\u001b[0m\u001b[0mNet\u001b[0m\u001b[0;34m(\u001b[0m\u001b[0mX\u001b[0m\u001b[0;34m)\u001b[0m\u001b[0;34m\u001b[0m\u001b[0;34m\u001b[0m\u001b[0m\n\u001b[0m\u001b[1;32m    177\u001b[0m             \u001b[0mpreds\u001b[0m\u001b[0;34m,\u001b[0m \u001b[0m_\u001b[0m \u001b[0;34m=\u001b[0m \u001b[0mtorch\u001b[0m\u001b[0;34m.\u001b[0m\u001b[0mmax\u001b[0m\u001b[0;34m(\u001b[0m\u001b[0mpreds\u001b[0m\u001b[0;34m,\u001b[0m\u001b[0;36m1\u001b[0m\u001b[0;34m)\u001b[0m\u001b[0;34m\u001b[0m\u001b[0;34m\u001b[0m\u001b[0m\n\u001b[1;32m    178\u001b[0m             \u001b[0mloss\u001b[0m \u001b[0;34m=\u001b[0m \u001b[0mself\u001b[0m\u001b[0;34m.\u001b[0m\u001b[0mcriterion\u001b[0m\u001b[0;34m(\u001b[0m\u001b[0mpreds\u001b[0m\u001b[0;34m,\u001b[0m \u001b[0mY\u001b[0m\u001b[0;34m)\u001b[0m\u001b[0;34m\u001b[0m\u001b[0;34m\u001b[0m\u001b[0m\n",
            "\u001b[0;31mTypeError\u001b[0m: 'NoneType' object is not callable"
          ]
        }
      ]
    },
    {
      "cell_type": "code",
      "source": [
        "# PyTorch 2D layers with parameters\n",
        "# conv2d() + relu\n",
        "# torch.nn.Conv2d(\n",
        "#     in_channels,\n",
        "#     out_channels,\n",
        "#     kernel_size,\n",
        "#     stride=1,\n",
        "#     padding=0,\n",
        "#     dilation=1,\n",
        "#     groups=1,\n",
        "#     bias=True,\n",
        "#     padding_mode='zeros',\n",
        "#     device=None,\n",
        "#     dtype=None\n",
        "#     )\n",
        "\n",
        "# batchnorm2d()\n",
        "# torch.nn.BatchNorm2d(\n",
        "#     num_features,\n",
        "#     eps=1e-05,\n",
        "#     momentum=0.1,\n",
        "#     #affine=True,\n",
        "#     #track_running_stats=True,\n",
        "#     #device=None,\n",
        "#     #dtype=None\n",
        "#     )\n",
        "\n",
        "# avgpool2d()\n",
        "# torch.nn.AvgPool2d(\n",
        "#     kernel_size,\n",
        "#     stride=None,\n",
        "#     padding=0,\n",
        "#     #ceil_mode=False,\n",
        "#     #count_include_pad=True,\n",
        "#     #divisor_override=None\n",
        "#     )\n",
        "\n",
        "# maxpool2d()\n",
        "# torch.nn.MaxPool2d(\n",
        "#     kernel_size,\n",
        "#     stride=None,\n",
        "#     padding=0,\n",
        "#     dilation=1,\n",
        "#     return_indices=False,\n",
        "#     ceil_mode=False)\n",
        "\n",
        "# dropout()\n",
        "# torch.nn.Dropout2d(\n",
        "#     p=0.5,\n",
        "#     #inplace=False\n",
        "#     )"
      ],
      "metadata": {
        "id": "Eta3MgpLsCeQ"
      },
      "execution_count": null,
      "outputs": []
    },
    {
      "cell_type": "code",
      "source": [
        "t = spaces.Text(max_length=10, min_length=3,charset=e.actions_set)\n",
        "action = t.sample()"
      ],
      "metadata": {
        "id": "gmj83PwgV-r7",
        "colab": {
          "base_uri": "https://localhost:8080/"
        },
        "outputId": "4f057a97-7217-45de-e799-9550f5c206e4"
      },
      "execution_count": 120,
      "outputs": [
        {
          "output_type": "stream",
          "name": "stderr",
          "text": [
            "/usr/local/lib/python3.10/dist-packages/ipykernel/ipkernel.py:283: DeprecationWarning: `should_run_async` will not call `transform_cell` automatically in the future. Please pass the result to `transformed_cell` argument and any exception that happen during thetransform in `preprocessing_exc_tuple` in IPython 7.17 and above.\n",
            "  and should_run_async(code)\n"
          ]
        }
      ]
    },
    {
      "cell_type": "code",
      "source": [
        "action = t.sample()"
      ],
      "metadata": {
        "colab": {
          "base_uri": "https://localhost:8080/"
        },
        "id": "vZ2jpamSWGBd",
        "outputId": "8ee5c00d-91a9-4a57-8bab-0be7dfb0e6cc"
      },
      "execution_count": 121,
      "outputs": [
        {
          "output_type": "stream",
          "name": "stderr",
          "text": [
            "/usr/local/lib/python3.10/dist-packages/gym/utils/seeding.py:63: DeprecationWarning: \u001b[33mWARN: Function `rng.randint(low, [high, size, dtype])` is marked as deprecated and will be removed in the future. Please use `rng.integers(low, [high, size, dtype])` instead.\u001b[0m\n",
            "  deprecation(\n"
          ]
        }
      ]
    },
    {
      "cell_type": "code",
      "source": [
        "'conv=channel_factor:4,kernel_size:7,stride:1,padding:0-conv=channel_factor:0.2,kernel_size:5,stride:1,padding:0-conv=channel_factor:0.4,kernel_size:5,stride:1,padding:0-conv=channel_factor:4,kernel_size:3,stride:1,padding:0-conv=channel_factor:4,kernel_size:3,stride:1,padding:0-conv=channel_factor:2,kernel_size:7,stride:1,padding:0-batchnorm=eps:0.00001-maxpool=kernel_size:2,stride:2,padding:0-conv=channel_factor:0.8,kernel_size:3,stride:1,padding:0-'"
      ],
      "metadata": {
        "id": "kk1y2DFCOEcg"
      },
      "execution_count": null,
      "outputs": []
    },
    {
      "cell_type": "code",
      "source": [
        "action"
      ],
      "metadata": {
        "colab": {
          "base_uri": "https://localhost:8080/",
          "height": 52
        },
        "id": "VjiCg3jW91vH",
        "outputId": "d753d53c-8195-4bd2-8182-d22d4079e2ed"
      },
      "execution_count": 122,
      "outputs": [
        {
          "output_type": "execute_result",
          "data": {
            "text/plain": [
              "'conv=channel_factor:4,kernel_size:7,stride:1,padding:0-conv=channel_factor:0.2,kernel_size:5,stride:1,padding:0-conv=channel_factor:0.4,kernel_size:5,stride:1,padding:0-conv=channel_factor:4,kernel_size:3,stride:1,padding:0-conv=channel_factor:4,kernel_size:3,stride:1,padding:0-conv=channel_factor:2,kernel_size:7,stride:1,padding:0-batchnorm=eps:0.00001-maxpool=kernel_size:2,stride:2,padding:0-conv=channel_factor:0.8,kernel_size:3,stride:1,padding:0-'"
            ],
            "application/vnd.google.colaboratory.intrinsic+json": {
              "type": "string"
            }
          },
          "metadata": {},
          "execution_count": 122
        }
      ]
    },
    {
      "cell_type": "code",
      "source": [],
      "metadata": {
        "id": "2eKdOJW_OJDo"
      },
      "execution_count": null,
      "outputs": []
    },
    {
      "cell_type": "code",
      "source": [
        "class actionParser():\n",
        "  def __init__(self):\n",
        "    self.text_layers_dict = dict({})\n",
        "    pass\n",
        "\n",
        "  def parse_action(self, action):\n",
        "    if action[-1] == '-':\n",
        "      action = action[:-1]\n",
        "    text_layers = action.split('-')\n",
        "    for text_layer in text_layers:\n",
        "      tmp = text_layer.split('=')\n",
        "      layer_name, layer_params = tmp[0], tmp[1].split(',')\n",
        "      layer_params_dict = dict({})\n",
        "      for param in layer_params:\n",
        "        param = param.split(':')\n",
        "        param_name, param_value = param[0], param[1]\n",
        "        layer_params_dict[param_name] = param_value\n",
        "      self.text_layers_dict[layer_name] = layer_params_dict\n",
        "\n",
        "  def get_text_layers_dict(self):\n",
        "    return self.text_layers_dict"
      ],
      "metadata": {
        "id": "ZsHoTVQ976Jg"
      },
      "execution_count": 73,
      "outputs": []
    },
    {
      "cell_type": "code",
      "source": [
        "parser = actionParser()\n",
        "parser.parse_action(action)\n",
        "res = parser.get_text_layers_dict()\n",
        "for r in res.keys():\n",
        "  print(r, res[r])"
      ],
      "metadata": {
        "id": "qmy0QUJRxF37",
        "colab": {
          "base_uri": "https://localhost:8080/"
        },
        "outputId": "a55cc643-53cb-4809-ea5b-276adabc8f28"
      },
      "execution_count": 74,
      "outputs": [
        {
          "output_type": "stream",
          "name": "stdout",
          "text": [
            "batchnorm {'eps': '0.00001'}\n",
            "maxpool {'kernel_size': '2', 'stride': '2', 'padding': '0'}\n",
            "avgpool {'kernel_size': '3', 'stride': '2', 'padding': '0'}\n"
          ]
        }
      ]
    },
    {
      "cell_type": "code",
      "source": [
        "s = nn.Sequential()"
      ],
      "metadata": {
        "colab": {
          "base_uri": "https://localhost:8080/"
        },
        "id": "Hc0y1pv8CKLj",
        "outputId": "414f827f-db2f-4538-952e-79d8d71de9e4"
      },
      "execution_count": 110,
      "outputs": [
        {
          "output_type": "stream",
          "name": "stderr",
          "text": [
            "/usr/local/lib/python3.10/dist-packages/ipykernel/ipkernel.py:283: DeprecationWarning: `should_run_async` will not call `transform_cell` automatically in the future. Please pass the result to `transformed_cell` argument and any exception that happen during thetransform in `preprocessing_exc_tuple` in IPython 7.17 and above.\n",
            "  and should_run_async(code)\n"
          ]
        }
      ]
    },
    {
      "cell_type": "code",
      "source": [
        "s.append(nn.Dropout(p=0.2))"
      ],
      "metadata": {
        "colab": {
          "base_uri": "https://localhost:8080/"
        },
        "id": "JOtVX2UuCMTi",
        "outputId": "9c753ceb-bf63-4b6d-fbcf-8589c8e09a73"
      },
      "execution_count": 112,
      "outputs": [
        {
          "output_type": "stream",
          "name": "stderr",
          "text": [
            "/usr/local/lib/python3.10/dist-packages/ipykernel/ipkernel.py:283: DeprecationWarning: `should_run_async` will not call `transform_cell` automatically in the future. Please pass the result to `transformed_cell` argument and any exception that happen during thetransform in `preprocessing_exc_tuple` in IPython 7.17 and above.\n",
            "  and should_run_async(code)\n"
          ]
        },
        {
          "output_type": "execute_result",
          "data": {
            "text/plain": [
              "Sequential(\n",
              "  (0): Dropout(p=0.2, inplace=False)\n",
              ")"
            ]
          },
          "metadata": {},
          "execution_count": 112
        }
      ]
    },
    {
      "cell_type": "code",
      "source": [
        "s"
      ],
      "metadata": {
        "colab": {
          "base_uri": "https://localhost:8080/"
        },
        "id": "X4IwhMt9CPZi",
        "outputId": "16d4b382-7f5e-46d2-97d7-61dfed6a67b2"
      },
      "execution_count": 113,
      "outputs": [
        {
          "output_type": "stream",
          "name": "stderr",
          "text": [
            "/usr/local/lib/python3.10/dist-packages/ipykernel/ipkernel.py:283: DeprecationWarning: `should_run_async` will not call `transform_cell` automatically in the future. Please pass the result to `transformed_cell` argument and any exception that happen during thetransform in `preprocessing_exc_tuple` in IPython 7.17 and above.\n",
            "  and should_run_async(code)\n"
          ]
        },
        {
          "output_type": "execute_result",
          "data": {
            "text/plain": [
              "Sequential(\n",
              "  (0): Dropout(p=0.2, inplace=False)\n",
              ")"
            ]
          },
          "metadata": {},
          "execution_count": 113
        }
      ]
    },
    {
      "cell_type": "code",
      "source": [],
      "metadata": {
        "id": "yBVMCEY3CSj5"
      },
      "execution_count": null,
      "outputs": []
    }
  ]
}