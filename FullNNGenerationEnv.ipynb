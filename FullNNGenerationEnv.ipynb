{
  "nbformat": 4,
  "nbformat_minor": 0,
  "metadata": {
    "colab": {
      "provenance": []
    },
    "kernelspec": {
      "name": "python3",
      "display_name": "Python 3"
    },
    "language_info": {
      "name": "python"
    }
  },
  "cells": [
    {
      "cell_type": "code",
      "execution_count": 2,
      "metadata": {
        "id": "CSOE0Jo14KFl"
      },
      "outputs": [],
      "source": [
        "import gym\n",
        "from gym import error, spaces, utils\n",
        "from gym.utils import seeding\n",
        "import numpy as np\n",
        "import math\n",
        "import matplotlib.pyplot as plt\n",
        "from matplotlib import colors\n",
        "import random\n",
        "import sys\n",
        "import torch\n",
        "from torch import nn\n",
        "from torch.nn import functional as F\n",
        "import torchvision.datasets as dsets\n",
        "import torchvision.transforms as transforms\n",
        "from tqdm import tqdm\n",
        "from torch.utils.data import Dataset"
      ]
    },
    {
      "cell_type": "code",
      "source": [
        "batch_size=32\n",
        "device='cpu'\n",
        "lr=0.0001"
      ],
      "metadata": {
        "id": "cK0NuHbBlLr0"
      },
      "execution_count": null,
      "outputs": []
    },
    {
      "cell_type": "code",
      "source": [
        "class NN(nn.Module):\n",
        "\n",
        "    def __init__(self, in_channels):\n",
        "      super(NN, self).__init__()\n",
        "\n",
        "      self.first_block = nn.Sequential(\n",
        "          nn.Conv2d(in_channels=in_channels, out_channels=32, kernel_size=3, padding='same'),\n",
        "          nn.ReLU(inplace=True),\n",
        "          nn.Conv2d(in_channels=32, out_channels=4, kernel_size=3, padding='same'),\n",
        "          nn.ReLU(inplace=True),\n",
        "      )\n",
        "\n",
        "      self.backbone = nn.Sequential()\n",
        "      self.classifier = nn.Linear(4 * 28 *28, 10)\n",
        "      self.softmax = nn.Softmax(dim=1)\n",
        "\n",
        "    def forward(self, x):\n",
        "      x = self.first_block(x)\n",
        "      #x = self.backbone(x)\n",
        "      x = torch.flatten(x, start_dim=1)\n",
        "      out = self.classifier(x)\n",
        "      out = self.softmax(out)\n",
        "      return out\n",
        "\n",
        "    def __call__(self, x):\n",
        "      return self.forward(x)"
      ],
      "metadata": {
        "id": "6w6EosLjlEDT"
      },
      "execution_count": null,
      "outputs": []
    },
    {
      "cell_type": "code",
      "source": [
        "class env():\n",
        "  metadata = {'render_modes': ['human']}\n",
        "\n",
        "  \"\"\"\n",
        "  actions:\n",
        "      0) Conv2d(x, 2x, 3,3, padding='same') + relu\n",
        "      1) Conv2d(x, 2x, 5,5, padding='same') + relu\n",
        "      2) Conv2d(x, 2x, 7,7, padding='same') + relu\n",
        "      3) Conv2d(2x, x, 3,3, padding='same') + relu\n",
        "      4) Conv2d(2x, x, 5,5, padding='same') + relu\n",
        "      5) Conv2d(2x, x, 7,7, padding='same') + relu\n",
        "      6) dropout(0.1)\n",
        "      7) dropout(0.2)\n",
        "      8) dropout(0.4)\n",
        "      9) MaxPool2D(2)\n",
        "      10) AvgPool2D(2)\n",
        "      11) BatchNorm2d()\n",
        "  \"\"\"\n",
        "\n",
        "  def __init__(self, render_mode=None):\n",
        "      self.max_its = 10\n",
        "      self.current_it = 1\n",
        "      self.episode_reward = 0\n",
        "      #self.last_layer_shape = None\n",
        "      self.N_final_losses = 10\n",
        "      self.N_epochs = 10\n",
        "      self.N_max_layers = 10\n",
        "      self.N_amount_actions = 12\n",
        "      self.in_channels = 1\n",
        "      self.last_step_valid_losses = np.zeros(self.N_epochs)\n",
        "      self.final_losses = np.zeros(self.N_final_losses)\n",
        "\n",
        "      self.NN = NN(self.in_channels)\n",
        "      self.train_dataloader = None\n",
        "      self.train_dataloader = None\n",
        "      self.optimizer = None\n",
        "      self.criterion = None\n",
        "\n",
        "      self.action_space = spaces.MultiDiscrete([self.N_amount_actions] * self.N_max_layers)\n",
        "\n",
        "      self.observation_space = spaces.Dict(\n",
        "      {\n",
        "          'last_final_losses': spaces.Box(low=0, high=2, shape=(self.N_final_losses,)),\n",
        "          'last_step_valid_losses': spaces.Box(low=0, high=2, shape=(self.N_epochs,)),\n",
        "      }\n",
        "      )\n",
        "      self.statistics = {\n",
        "        'episode_rewards': [],\n",
        "        'global_rewards': [],\n",
        "        'made_steps': [],\n",
        "      }\n",
        "      self.seed()\n",
        "\n",
        "      assert render_mode is None or render_mode in self.metadata[\"render_modes\"]\n",
        "      self.render_mode = render_mode\n",
        "\n",
        "\n",
        "\n",
        "  def set_train_dataloader(self, train_dataloader):\n",
        "    self.train_dataloader = train_dataloader\n",
        "\n",
        "  def set_valid_dataloader(self, valid_dataloader):\n",
        "    self.valid_dataloader = valid_dataloader\n",
        "\n",
        "  def set_criterion(self, criterion):\n",
        "    self.criterion = criterion\n",
        "\n",
        "  def set_optimizer(self, optimizer):\n",
        "    self.optimizer = optimizer\n",
        "\n",
        "  def train(self):\n",
        "    train_losses = []\n",
        "    valid_losses = []\n",
        "\n",
        "    def CalcValLoss(self):\n",
        "        with torch.no_grad():\n",
        "            losses = []\n",
        "            for X, Y in self.valid_dataloader:\n",
        "                X = X.float().to(device)\n",
        "                Y = Y.float().to(device)\n",
        "                preds = self.NN(X)\n",
        "                preds, _ = torch.max(preds,1)\n",
        "                loss = self.criterion(preds,Y)\n",
        "                losses.append(loss.item())\n",
        "            print(\"Valid Loss : {:.6f}\".format(torch.tensor(losses).mean()))\n",
        "            valid_losses.append(torch.tensor(losses).mean())\n",
        "\n",
        "    for i in range(1, self.N_epochs+1):\n",
        "        losses = []\n",
        "        for X, Y in tqdm(self.train_dataloader):\n",
        "            X = X.float().to(device)\n",
        "            Y = Y.float().to(device)\n",
        "            preds = self.NN(X)\n",
        "            preds, _ = torch.max(preds,1)\n",
        "            loss = self.criterion(preds, Y)\n",
        "            losses.append(loss.item())\n",
        "\n",
        "            self.optimizer.zero_grad()\n",
        "            loss.backward()\n",
        "            self.optimizer.step()\n",
        "\n",
        "        print(\"Train Loss : {:.6f}\".format(torch.tensor(losses).mean()))\n",
        "        train_losses.append(torch.tensor(losses).mean())\n",
        "    return train_losses, valid_losses\n",
        "\n",
        "\n",
        "  def seed(self, seed=None):\n",
        "      self.np_random, seed = seeding.np_random(seed)\n",
        "      return [seed]\n",
        "\n",
        "  def action_to_NN(self, action, last_out_shape): # last shape = [BS,C,H,W]\n",
        "    layer = None\n",
        "    C = last_out_shape[1]\n",
        "    if (action == 1): # Conv2d(x, 2x, 3,3, padding='same') + relu\n",
        "      layer = nn.Sequential(\n",
        "          nn.Conv2d(C, 2*C, kernel_size=3, padding='same'),\n",
        "          nn.ReLU(inplace=True),\n",
        "      )\n",
        "    elif (action == 2): # Conv2d(x, 2x, 5,5, padding='same') + relu\n",
        "      layer = nn.Sequential(\n",
        "          nn.Conv2d(C, 2*C, kernel_size=5, padding='same'),\n",
        "          nn.ReLU(inplace=True),\n",
        "      )\n",
        "    elif (action == 3): # Conv2d(x, 2x, 7,7, padding='same') + relu\n",
        "      layer = nn.Sequential(\n",
        "          nn.Conv2d(C, 2*C, kernel_size=7, padding='same'),\n",
        "          nn.ReLU(inplace=True),\n",
        "      )\n",
        "    elif (action == 4): # Conv2d(x, 2x, 3,3, padding='same') + sigmoid\n",
        "      layer = nn.Sequential(\n",
        "          nn.Conv2d(C, 2*C, kernel_size=3, padding='same'),\n",
        "          nn.Sigmoid(),\n",
        "      )\n",
        "    elif (action == 5): # Conv2d(x, 2x, 5,5, padding='same') + sigmoid\n",
        "      layer = nn.Sequential(\n",
        "          nn.Conv2d(C, 2*C, kernel_size=5, padding='same'),\n",
        "          nn.Sigmoid(),\n",
        "      )\n",
        "    elif (action == 6): # Conv2d(x, 2x, 7,7, padding='same') + sigmoid\n",
        "      layer = nn.Sequential(\n",
        "          nn.Conv2d(C, 2*C, kernel_size=7, padding='same'),\n",
        "          nn.Sigmoid(),\n",
        "      )\n",
        "\n",
        "    elif (action == 7): # Conv2d(2x, x, 3,3, padding='same') + relu\n",
        "      layer = nn.Sequential(\n",
        "          nn.Conv2d(C, C/2, kernel_size=3, padding='same'),\n",
        "          nn.ReLU(inplace=True),\n",
        "      )\n",
        "    elif (action == 8): # Conv2d(2x, x, 5,5, padding='same') + relu\n",
        "      layer = nn.Sequential(\n",
        "          nn.ReLU(inplace=True),\n",
        "      )\n",
        "    elif (action == 9): # Conv2d(2x, x, 7,7, padding='same') + relu\n",
        "      layer = nn.Sequential(\n",
        "          nn.ReLU(inplace=True),\n",
        "      )\n",
        "    elif (action == 10): # Conv2d(2x, x, 3,3, padding='same') + sigmoid\n",
        "      layer = nn.Sequential(\n",
        "          nn.Sigmoid(),\n",
        "      )\n",
        "    elif (action == 11): # Conv2d(2x, x, 5,5, padding='same') + sigmoid\n",
        "      layer = nn.Sequential(\n",
        "          nn.Sigmoid(),\n",
        "      )\n",
        "    elif (action == 12): # Conv2d(2x, x, 7,7, padding='same') + sigmoid\n",
        "      layer = nn.Sequential(\n",
        "          nn.Sigmoid(),\n",
        "      )\n",
        "\n",
        "    elif (action == 13): # dropout(0.1)\n",
        "      layer = nn.Sequential(\n",
        "          nn.Dropout(p=0.1),\n",
        "      )\n",
        "    elif (action == 14): # dropout(0.2)\n",
        "      layer = nn.Sequential(\n",
        "          nn.Dropout(p=0.2),\n",
        "      )\n",
        "    elif (action == 15): # dropout(0.4)\n",
        "      layer = nn.Sequential(\n",
        "          nn.Dropout(p=0.4),\n",
        "      )\n",
        "\n",
        "    elif (action == 16): # MaxPool2D(2)\n",
        "      layer = nn.Sequential(\n",
        "          nn.MaxPool2d(2),\n",
        "      )\n",
        "    elif (action == 17): # AvgPool2D(2)\n",
        "      layer = nn.Sequential(\n",
        "          nn.AvgPool2d(2),\n",
        "      )\n",
        "\n",
        "    elif (action == 18): # BatchNorm2d()\n",
        "      layer = nn.Sequential(\n",
        "          nn.BatchNorm2d(C),\n",
        "      )\n",
        "\n",
        "    return layer\n",
        "\n",
        "  def rebuild_nn(self):\n",
        "    pass\n",
        "\n",
        "  def step(self, action):\n",
        "      reward = 0\n",
        "      done = False\n",
        "      info = {} # You may need to add some extra information\n",
        "      '''\n",
        "      Do some simulation\n",
        "      '''\n",
        "\n",
        "      current_obs = {\n",
        "        'visible_space': None,\n",
        "        'distance': None,\n",
        "        'memory': self.last_rewards,\n",
        "        }\n",
        "      return current_obs, reward, done, info\n",
        "\n",
        "\n",
        "  def create_basic_nn(self):\n",
        "    pass\n",
        "\n",
        "  def reset(self):\n",
        "      '''\n",
        "      Reset the env\n",
        "      '''\n",
        "      self.last_rewards = np.zeros(self.N_last_rewards)\n",
        "\n",
        "      current_obs = {\n",
        "        'visible_space': self.current_space,\n",
        "        'distance': self.distance,\n",
        "        'memory': self.last_rewards}\n",
        "      self.episode_reward = 0\n",
        "      self.current_it = 1\n",
        "      self.statistics['episode_rewards'] = []\n",
        "      self.statistics['made_steps'] = []\n",
        "\n",
        "      return current_obs\n",
        "\n",
        "\n",
        "\n",
        "  def render(self, mode=None):\n",
        "    pass\n",
        "\n",
        "  def _render_frame(self):\n",
        "    pass\n",
        "\n",
        "\n",
        "  def close(self):\n",
        "      pass"
      ],
      "metadata": {
        "id": "NFb8q3Fw4SCe"
      },
      "execution_count": null,
      "outputs": []
    },
    {
      "cell_type": "code",
      "source": [
        "env = env()"
      ],
      "metadata": {
        "id": "M9Y10vCXf8uJ"
      },
      "execution_count": null,
      "outputs": []
    },
    {
      "cell_type": "code",
      "source": [
        "train_data = dsets.MNIST(root = './data', train = True,\n",
        "                        transform = transforms.ToTensor(), download = True)\n",
        "\n",
        "test_data = dsets.MNIST(root = './data', train = False,\n",
        "                       transform = transforms.ToTensor())"
      ],
      "metadata": {
        "id": "SXe_a9lvoqyO"
      },
      "execution_count": null,
      "outputs": []
    },
    {
      "cell_type": "code",
      "source": [
        "train_samples = np.expand_dims(np.array(train_data.data), axis=1)[:5000]"
      ],
      "metadata": {
        "id": "xK-hNsEiqdcS"
      },
      "execution_count": null,
      "outputs": []
    },
    {
      "cell_type": "code",
      "source": [
        "train_labels = np.array(train_data.targets)[:5000]"
      ],
      "metadata": {
        "id": "r-aDhO7qq2kT"
      },
      "execution_count": null,
      "outputs": []
    },
    {
      "cell_type": "code",
      "source": [
        "\n",
        "class myDataset(Dataset):\n",
        "    def __init__(self, X, y):\n",
        "\n",
        "      self.X = X\n",
        "      self.y = y\n",
        "\n",
        "    def __len__(self):\n",
        "        return len(self.y)\n",
        "\n",
        "    def __getitem__(self, idx):\n",
        "        x_ = self.X[idx]\n",
        "        y_ = self.y[idx]\n",
        "        return x_, y_"
      ],
      "metadata": {
        "id": "NiJku9rmrHy6"
      },
      "execution_count": null,
      "outputs": []
    },
    {
      "cell_type": "code",
      "source": [
        "dataset = myDataset(X=train_samples, y=train_labels)"
      ],
      "metadata": {
        "id": "mAjrBApqruzk"
      },
      "execution_count": null,
      "outputs": []
    },
    {
      "cell_type": "code",
      "source": [
        "train_set, valid_set = torch.utils.data.random_split(dataset, [0.8, 0.2], generator=torch.Generator().manual_seed(42))"
      ],
      "metadata": {
        "id": "a0N1KCO0rbFV"
      },
      "execution_count": null,
      "outputs": []
    },
    {
      "cell_type": "code",
      "source": [
        "\n",
        "train_dataloader = torch.utils.data.DataLoader(\n",
        "  train_set,\n",
        "  batch_size=batch_size,\n",
        "  shuffle=True,\n",
        "  drop_last=True)\n",
        "\n",
        "valid_dataloader = torch.utils.data.DataLoader(\n",
        "  valid_set,\n",
        "  batch_size=batch_size,\n",
        "  drop_last=True,\n",
        "  shuffle=True)"
      ],
      "metadata": {
        "id": "ZWZugDc2rrtL"
      },
      "execution_count": null,
      "outputs": []
    },
    {
      "cell_type": "code",
      "source": [
        "env.set_train_dataloader(train_dataloader)\n",
        "env.set_valid_dataloader(valid_dataloader)"
      ],
      "metadata": {
        "id": "KidTZzShr2v7"
      },
      "execution_count": null,
      "outputs": []
    },
    {
      "cell_type": "code",
      "source": [
        "env.set_criterion(torch.nn.CrossEntropyLoss())\n",
        "env.set_optimizer(torch.optim.SGD(env.NN.parameters(), lr=lr))"
      ],
      "metadata": {
        "id": "H9WTNWQntXN3"
      },
      "execution_count": null,
      "outputs": []
    },
    {
      "cell_type": "code",
      "source": [
        "env.train()"
      ],
      "metadata": {
        "colab": {
          "base_uri": "https://localhost:8080/"
        },
        "id": "I0XVTudLr_zQ",
        "outputId": "f930db2b-9425-4758-b8cf-315956476764"
      },
      "execution_count": null,
      "outputs": [
        {
          "output_type": "stream",
          "name": "stderr",
          "text": [
            "100%|██████████| 125/125 [00:01<00:00, 67.06it/s]\n"
          ]
        },
        {
          "output_type": "stream",
          "name": "stdout",
          "text": [
            "Train Loss : 490.178558\n"
          ]
        },
        {
          "output_type": "stream",
          "name": "stderr",
          "text": [
            "100%|██████████| 125/125 [00:02<00:00, 60.31it/s]\n"
          ]
        },
        {
          "output_type": "stream",
          "name": "stdout",
          "text": [
            "Train Loss : 485.136169\n"
          ]
        },
        {
          "output_type": "stream",
          "name": "stderr",
          "text": [
            "100%|██████████| 125/125 [00:01<00:00, 74.70it/s]\n"
          ]
        },
        {
          "output_type": "stream",
          "name": "stdout",
          "text": [
            "Train Loss : 481.926880\n"
          ]
        },
        {
          "output_type": "stream",
          "name": "stderr",
          "text": [
            "100%|██████████| 125/125 [00:01<00:00, 75.41it/s]\n"
          ]
        },
        {
          "output_type": "stream",
          "name": "stdout",
          "text": [
            "Train Loss : 480.305450\n"
          ]
        },
        {
          "output_type": "stream",
          "name": "stderr",
          "text": [
            "100%|██████████| 125/125 [00:01<00:00, 76.00it/s]\n"
          ]
        },
        {
          "output_type": "stream",
          "name": "stdout",
          "text": [
            "Train Loss : 479.286804\n"
          ]
        },
        {
          "output_type": "stream",
          "name": "stderr",
          "text": [
            "100%|██████████| 125/125 [00:01<00:00, 69.38it/s]\n"
          ]
        },
        {
          "output_type": "stream",
          "name": "stdout",
          "text": [
            "Train Loss : 478.420776\n"
          ]
        },
        {
          "output_type": "stream",
          "name": "stderr",
          "text": [
            "100%|██████████| 125/125 [00:02<00:00, 60.14it/s]\n"
          ]
        },
        {
          "output_type": "stream",
          "name": "stdout",
          "text": [
            "Train Loss : 477.736420\n"
          ]
        },
        {
          "output_type": "stream",
          "name": "stderr",
          "text": [
            "100%|██████████| 125/125 [00:02<00:00, 59.43it/s]\n"
          ]
        },
        {
          "output_type": "stream",
          "name": "stdout",
          "text": [
            "Train Loss : 477.123596\n"
          ]
        },
        {
          "output_type": "stream",
          "name": "stderr",
          "text": [
            "100%|██████████| 125/125 [00:01<00:00, 74.26it/s]\n"
          ]
        },
        {
          "output_type": "stream",
          "name": "stdout",
          "text": [
            "Train Loss : 476.843506\n"
          ]
        },
        {
          "output_type": "stream",
          "name": "stderr",
          "text": [
            "100%|██████████| 125/125 [00:01<00:00, 77.46it/s]"
          ]
        },
        {
          "output_type": "stream",
          "name": "stdout",
          "text": [
            "Train Loss : 476.379364\n"
          ]
        },
        {
          "output_type": "stream",
          "name": "stderr",
          "text": [
            "\n"
          ]
        },
        {
          "output_type": "execute_result",
          "data": {
            "text/plain": [
              "([tensor(490.1786),\n",
              "  tensor(485.1362),\n",
              "  tensor(481.9269),\n",
              "  tensor(480.3055),\n",
              "  tensor(479.2868),\n",
              "  tensor(478.4208),\n",
              "  tensor(477.7364),\n",
              "  tensor(477.1236),\n",
              "  tensor(476.8435),\n",
              "  tensor(476.3794)],\n",
              " [])"
            ]
          },
          "metadata": {},
          "execution_count": 514
        }
      ]
    },
    {
      "cell_type": "code",
      "source": [
        "# PyTorch 2D layers with parameters\n",
        "# conv2d() + relu\n",
        "# torch.nn.Conv2d(\n",
        "#     in_channels,\n",
        "#     out_channels,\n",
        "#     kernel_size,\n",
        "#     stride=1,\n",
        "#     padding=0,\n",
        "#     dilation=1,\n",
        "#     groups=1,\n",
        "#     bias=True,\n",
        "#     padding_mode='zeros',\n",
        "#     device=None,\n",
        "#     dtype=None\n",
        "#     )\n",
        "\n",
        "# batchnorm2d()\n",
        "# torch.nn.BatchNorm2d(\n",
        "#     num_features,\n",
        "#     eps=1e-05,\n",
        "#     momentum=0.1,\n",
        "#     #affine=True,\n",
        "#     #track_running_stats=True,\n",
        "#     #device=None,\n",
        "#     #dtype=None\n",
        "#     )\n",
        "\n",
        "# avgpool2d()\n",
        "# torch.nn.AvgPool2d(\n",
        "#     kernel_size,\n",
        "#     stride=None,\n",
        "#     padding=0,\n",
        "#     #ceil_mode=False,\n",
        "#     #count_include_pad=True,\n",
        "#     #divisor_override=None\n",
        "#     )\n",
        "\n",
        "# maxpool2d()\n",
        "# torch.nn.MaxPool2d(\n",
        "#     kernel_size,\n",
        "#     stride=None,\n",
        "#     padding=0,\n",
        "#     dilation=1,\n",
        "#     return_indices=False,\n",
        "#     ceil_mode=False)\n",
        "\n",
        "# dropout()\n",
        "# torch.nn.Dropout2d(\n",
        "#     p=0.5,\n",
        "#     #inplace=False\n",
        "#     )"
      ],
      "metadata": {
        "id": "Eta3MgpLsCeQ"
      },
      "execution_count": null,
      "outputs": []
    },
    {
      "cell_type": "code",
      "source": [
        "t = spaces.Text(max_length=10, min_length=3,charset={'conv=channel_factor:2,kernel_size:3,stride:1,padding:0-',\n",
        "                                                     'conv=channel_factor:0.5,kernel_size:3,stride:1,padding:0-',\n",
        "                                                     'batchnorm=eps:0.00001-',\n",
        "                                                     'avgpool=kernel_size:2,stride:2,padding:0-',\n",
        "                                                     'avgpool=kernel_size:3,stride:2,padding:0-',\n",
        "                                                     'maxpool=kernel_size:2,stride:2,padding:0-',\n",
        "                                                     'maxpool=kernel_size:3,stride:2,padding:0-',\n",
        "                                                     'dropout=p:0.1-',\n",
        "                                                     'dropout=p:0.2-',\n",
        "                                                     })"
      ],
      "metadata": {
        "id": "gmj83PwgV-r7"
      },
      "execution_count": 70,
      "outputs": []
    },
    {
      "cell_type": "code",
      "source": [
        "action = t.sample()"
      ],
      "metadata": {
        "id": "vZ2jpamSWGBd"
      },
      "execution_count": 71,
      "outputs": []
    },
    {
      "cell_type": "code",
      "source": [
        "action"
      ],
      "metadata": {
        "colab": {
          "base_uri": "https://localhost:8080/",
          "height": 35
        },
        "id": "VjiCg3jW91vH",
        "outputId": "864c4454-2a38-4ab6-bc6e-3277406e3db0"
      },
      "execution_count": 72,
      "outputs": [
        {
          "output_type": "execute_result",
          "data": {
            "text/plain": [
              "'batchnorm=eps:0.00001-maxpool=kernel_size:2,stride:2,padding:0-avgpool=kernel_size:3,stride:2,padding:0-maxpool=kernel_size:2,stride:2,padding:0-'"
            ],
            "application/vnd.google.colaboratory.intrinsic+json": {
              "type": "string"
            }
          },
          "metadata": {},
          "execution_count": 72
        }
      ]
    },
    {
      "cell_type": "code",
      "source": [
        "class actionParser():\n",
        "  def __init__(self):\n",
        "    self.text_layers_dict = dict({})\n",
        "    pass\n",
        "\n",
        "  def parse_action(self, action):\n",
        "    if action[-1] == '-':\n",
        "      action = action[:-1]\n",
        "    text_layers = action.split('-')\n",
        "    for text_layer in text_layers:\n",
        "      tmp = text_layer.split('=')\n",
        "      layer_name, layer_params = tmp[0], tmp[1].split(',')\n",
        "      layer_params_dict = dict({})\n",
        "      for param in layer_params:\n",
        "        param = param.split(':')\n",
        "        param_name, param_value = param[0], param[1]\n",
        "        layer_params_dict[param_name] = param_value\n",
        "      self.text_layers_dict[layer_name] = layer_params_dict\n",
        "\n",
        "  def get_text_layers_dict(self):\n",
        "    return self.text_layers_dict"
      ],
      "metadata": {
        "id": "ZsHoTVQ976Jg"
      },
      "execution_count": 73,
      "outputs": []
    },
    {
      "cell_type": "code",
      "source": [
        "parser = actionParser()\n",
        "parser.parse_action(action)\n",
        "res = parser.get_text_layers_dict()\n",
        "for r in res.keys():\n",
        "  print(r, res[r])"
      ],
      "metadata": {
        "id": "qmy0QUJRxF37",
        "colab": {
          "base_uri": "https://localhost:8080/"
        },
        "outputId": "a55cc643-53cb-4809-ea5b-276adabc8f28"
      },
      "execution_count": 74,
      "outputs": [
        {
          "output_type": "stream",
          "name": "stdout",
          "text": [
            "batchnorm {'eps': '0.00001'}\n",
            "maxpool {'kernel_size': '2', 'stride': '2', 'padding': '0'}\n",
            "avgpool {'kernel_size': '3', 'stride': '2', 'padding': '0'}\n"
          ]
        }
      ]
    }
  ]
}