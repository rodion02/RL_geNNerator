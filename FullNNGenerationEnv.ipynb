{
  "nbformat": 4,
  "nbformat_minor": 0,
  "metadata": {
    "colab": {
      "provenance": []
    },
    "kernelspec": {
      "name": "python3",
      "display_name": "Python 3"
    },
    "language_info": {
      "name": "python"
    }
  },
  "cells": [
    {
      "cell_type": "code",
      "execution_count": 84,
      "metadata": {
        "id": "CSOE0Jo14KFl"
      },
      "outputs": [],
      "source": [
        "import gym\n",
        "from gym import error, spaces, utils\n",
        "from gym.utils import seeding\n",
        "import numpy as np\n",
        "import math\n",
        "import matplotlib.pyplot as plt\n",
        "from matplotlib import colors\n",
        "import random\n",
        "import sys\n",
        "import torch\n",
        "from torch import nn\n",
        "from torch.nn import functional as F\n",
        "import torchvision.datasets as dsets\n",
        "import torchvision.transforms as transforms\n",
        "from tqdm import tqdm\n",
        "from torch.utils.data import Dataset"
      ]
    },
    {
      "cell_type": "code",
      "source": [
        "batch_size=32\n",
        "device='cpu'\n",
        "lr=0.0001"
      ],
      "metadata": {
        "id": "cK0NuHbBlLr0"
      },
      "execution_count": 85,
      "outputs": []
    },
    {
      "cell_type": "code",
      "source": [
        "class env():\n",
        "  metadata = {'render_modes': ['human']}\n",
        "\n",
        "  actions_set = {\n",
        "                # increase channels with kernel 3\n",
        "                'conv=channel_factor:2,kernel_size:3,stride:1,padding:0-',\n",
        "                'conv=channel_factor:4,kernel_size:3,stride:1,padding:0-',\n",
        "                'conv=channel_factor:8,kernel_size:3,stride:1,padding:0-',\n",
        "                'conv=channel_factor:16,kernel_size:3,stride:1,padding:0-',\n",
        "                # increase channels with kernel 5\n",
        "                'conv=channel_factor:2,kernel_size:5,stride:1,padding:0-',\n",
        "                'conv=channel_factor:4,kernel_size:5,stride:1,padding:0-',\n",
        "                'conv=channel_factor:8,kernel_size:5,stride:1,padding:0-',\n",
        "                'conv=channel_factor:16,kernel_size:5,stride:1,padding:0-',\n",
        "                # increase channels with kernel 7\n",
        "                'conv=channel_factor:2,kernel_size:7,stride:1,padding:0-',\n",
        "                'conv=channel_factor:4,kernel_size:7,stride:1,padding:0-',\n",
        "                'conv=channel_factor:8,kernel_size:7,stride:1,padding:0-',\n",
        "                'conv=channel_factor:16,kernel_size:7,stride:1,padding:0-',\n",
        "\n",
        "                # decrease channels with kernel 3\n",
        "                'conv=channel_factor:0.1,kernel_size:3,stride:1,padding:0-',\n",
        "                'conv=channel_factor:0.2,kernel_size:3,stride:1,padding:0-',\n",
        "                'conv=channel_factor:0.4,kernel_size:3,stride:1,padding:0-',\n",
        "                'conv=channel_factor:0.8,kernel_size:3,stride:1,padding:0-',\n",
        "                # decrease channels with kernel 5\n",
        "                'conv=channel_factor:0.1,kernel_size:5,stride:1,padding:0-',\n",
        "                'conv=channel_factor:0.2,kernel_size:5,stride:1,padding:0-',\n",
        "                'conv=channel_factor:0.4,kernel_size:5,stride:1,padding:0-',\n",
        "                'conv=channel_factor:0.8,kernel_size:5,stride:1,padding:0-',\n",
        "                # decrease channels with kernel 7\n",
        "                'conv=channel_factor:0.1,kernel_size:3,stride:1,padding:0-',\n",
        "                'conv=channel_factor:0.2,kernel_size:3,stride:1,padding:0-',\n",
        "                'conv=channel_factor:0.4,kernel_size:3,stride:1,padding:0-',\n",
        "                'conv=channel_factor:0.8,kernel_size:3,stride:1,padding:0-',\n",
        "\n",
        "\n",
        "                 'batchnorm=eps:0.00001-',\n",
        "\n",
        "                 'avgpool=kernel_size:2,stride:2,padding:0-',\n",
        "                 'avgpool=kernel_size:3,stride:3,padding:0-',\n",
        "                 'avgpool=kernel_size:5,stride:5,padding:0-',\n",
        "                 'avgpool=kernel_size:7,stride:7,padding:0-',\n",
        "\n",
        "                 'maxpool=kernel_size:2,stride:2,padding:0-',\n",
        "                 'maxpool=kernel_size:3,stride:3,padding:0-',\n",
        "                 'maxpool=kernel_size:3,stride:5,padding:0-',\n",
        "                 'maxpool=kernel_size:3,stride:7,padding:0-',\n",
        "\n",
        "                 'dropout=p:0.1-',\n",
        "                 'dropout=p:0.2-',\n",
        "                 'dropout=p:0.3-',\n",
        "                 'dropout=p:0.4-',\n",
        "  }\n",
        "\n",
        "  NN_CREATE_SUCCESS_REWARD = 5\n",
        "  NN_CREATE_NOT_SUCCESS_PENALTY = -5\n",
        "\n",
        "\n",
        "  def __init__(self, render_mode=None):\n",
        "      self.max_its = 10\n",
        "      self.current_it = 1\n",
        "      self.episode_reward = 0\n",
        "      #self.last_layer_shape = None\n",
        "\n",
        "      self.ENV_PARAMS = {\n",
        "          'iteration': 1,\n",
        "          'max_its': 10,\n",
        "          'episode_reward': 0,\n",
        "          'actions_amount': len(self.actions_set),\n",
        "      }\n",
        "\n",
        "      self.NN_PARAMS = {\n",
        "          'train_epochs': 10,\n",
        "          'last_nets_metrics_memory_len': 10,\n",
        "          'max_layers_amount': 10,\n",
        "          'min_layers_amount': 3,\n",
        "          'in_channels': 1,\n",
        "      }\n",
        "      self.NN_PARAMS['metrics'] = {'valid_losses': np.array([0] * self.NN_PARAMS['train_epochs']),\n",
        "                      'train_losses': np.array([0] * self.NN_PARAMS['train_epochs']),\n",
        "                     }\n",
        "\n",
        "\n",
        "      self.Net = self.NN(self.NN_PARAMS['in_channels'])\n",
        "      self.train_dataloader = None\n",
        "      self.train_dataloader = None\n",
        "      self.optimizer = None\n",
        "      self.criterion = None\n",
        "\n",
        "      self.nngenerator = self.nnGenerator()\n",
        "\n",
        "      self.last_obs = None\n",
        "\n",
        "      self.action_space = spaces.Text(\n",
        "          max_length=self.NN_PARAMS['max_layers_amount'],\n",
        "          min_length=self.NN_PARAMS['min_layers_amount'],\n",
        "          charset=self.actions_set)\n",
        "\n",
        "      self.observation_space = spaces.Dict(\n",
        "          {\n",
        "          'last_nets_metrics_memory': spaces.Box(\n",
        "              low=0,\n",
        "              high=1,\n",
        "              shape=(self.NN_PARAMS['last_nets_metrics_memory_len'],\n",
        "                     self.NN_PARAMS['train_epochs'],\n",
        "                     len(self.NN_PARAMS['metrics'].keys()),\n",
        "                     )),\n",
        "\n",
        "          }\n",
        "      )\n",
        "      self.statistics = {\n",
        "        'episode_rewards': [],\n",
        "        'global_rewards': [],\n",
        "        'made_steps': [],\n",
        "      }\n",
        "\n",
        "      self.seed()\n",
        "      assert render_mode is None or render_mode in self.metadata[\"render_modes\"]\n",
        "      self.render_mode = render_mode\n",
        "\n",
        "\n",
        "  class NN(nn.Module):\n",
        "\n",
        "    def __init__(self, in_channels):\n",
        "      super().__init__()\n",
        "\n",
        "      self.first_block = nn.Sequential(\n",
        "          nn.Conv2d(in_channels=in_channels,\n",
        "                    out_channels=32,\n",
        "                    kernel_size=3,\n",
        "                    padding='same'),\n",
        "\n",
        "          nn.ReLU(inplace=True),\n",
        "\n",
        "          nn.Conv2d(in_channels=32,\n",
        "                    out_channels=4,\n",
        "                    kernel_size=3,\n",
        "                    padding='same'),\n",
        "\n",
        "          nn.ReLU(inplace=True),\n",
        "      )\n",
        "\n",
        "      self.backbone = nn.Sequential()\n",
        "      self.classifier = nn.Linear(4 * 28 *28, 10)\n",
        "      self.softmax = nn.Softmax(dim=1)\n",
        "\n",
        "    def forward(self, x):\n",
        "      x = self.first_block(x)\n",
        "      #x = self.backbone(x)\n",
        "      x = torch.flatten(x, start_dim=1)\n",
        "      out = self.classifier(x)\n",
        "      out = self.softmax(out)\n",
        "      return out\n",
        "\n",
        "    def __call__(self, x):\n",
        "      return self.forward(x)\n",
        "\n",
        "  def set_train_dataloader(self, train_dataloader):\n",
        "    self.train_dataloader = train_dataloader\n",
        "\n",
        "  def set_valid_dataloader(self, valid_dataloader):\n",
        "    self.valid_dataloader = valid_dataloader\n",
        "\n",
        "  def set_criterion(self, criterion):\n",
        "    self.criterion = criterion\n",
        "\n",
        "  def set_optimizer(self, optimizer):\n",
        "    self.optimizer = optimizer\n",
        "\n",
        "  def train(self):\n",
        "    train_losses = []\n",
        "    valid_losses = []\n",
        "    # TODO calculate metrics and return them after train\n",
        "    def CalcValLoss(self):\n",
        "        with torch.no_grad():\n",
        "            losses = []\n",
        "            for X, Y in self.valid_dataloader:\n",
        "                X = X.float().to(device)\n",
        "                Y = Y.float().to(device)\n",
        "                preds = self.Net(X)\n",
        "                preds, _ = torch.max(preds,1)\n",
        "                loss = self.criterion(preds,Y)\n",
        "                losses.append(loss.item())\n",
        "            #print(\"Valid Loss : {:.6f}\".format(torch.tensor(losses).mean()))\n",
        "            valid_losses.append(torch.tensor(losses).mean())\n",
        "\n",
        "    for i in range(1, self.NN_PARAMS['train_epochs']):\n",
        "        losses = []\n",
        "        for X, Y in tqdm(self.train_dataloader):\n",
        "            X = X.float().to(device)\n",
        "            Y = Y.float().to(device)\n",
        "            preds = self.Net(X)\n",
        "            preds, _ = torch.max(preds,1)\n",
        "            loss = self.criterion(preds, Y)\n",
        "            losses.append(loss.item())\n",
        "\n",
        "            self.optimizer.zero_grad()\n",
        "            loss.backward()\n",
        "            self.optimizer.step()\n",
        "\n",
        "        #print(\"Train Loss : {:.6f}\".format(torch.tensor(losses).mean()))\n",
        "        train_losses.append(torch.tensor(losses).mean())\n",
        "\n",
        "    # update all required NN metrics\n",
        "    self.NN_PARAMS['metrics']['train_losses'] = train_losses\n",
        "    self.NN_PARAMS['metrics']['valid_losses'] = valid_losses\n",
        "\n",
        "  class nnGenerator():\n",
        "    def __init__(self):\n",
        "      self.text_layers_dict = dict({})\n",
        "      self.nn_len = -1\n",
        "\n",
        "    def parse_action(self, action):\n",
        "      if action[-1] == '-':\n",
        "        action = action[:-1]\n",
        "      text_layers = action.split('-')\n",
        "      for text_layer in text_layers:\n",
        "        tmp = text_layer.split('=')\n",
        "        layer_name, layer_params = tmp[0], tmp[1].split(',')\n",
        "        layer_params_dict = dict({})\n",
        "        for param in layer_params:\n",
        "          param = param.split(':')\n",
        "          param_name, param_value = param[0], param[1]\n",
        "          layer_params_dict[param_name] = param_value\n",
        "        self.text_layers_dict[layer_name] = layer_params_dict\n",
        "\n",
        "    def get_text_layers_dict(self):\n",
        "      return self.text_layers_dict\n",
        "\n",
        "    def get_nn_len(self):\n",
        "      return self.nn_len\n",
        "\n",
        "    def generateNN(self): # -> nn.Sequential\n",
        "      # returns success_state, backbone and classifier of nn, nn.Sequential\n",
        "      # if impossible to create nn, success_state = False\n",
        "      success_state = False\n",
        "      # TODO\n",
        "\n",
        "      # update self.nn_len if created correctly\n",
        "\n",
        "      backbone = nn.Sequential()\n",
        "      classifier = nn.Sequential()\n",
        "\n",
        "      return success_state, backbone, classifier\n",
        "\n",
        "\n",
        "  def seed(self, seed=None):\n",
        "      self.np_random, seed = seeding.np_random(seed)\n",
        "      return [seed]\n",
        "\n",
        "\n",
        "  def calc_reward(self, nn_created_correctly_flag, nn_len, last_train_metrics):\n",
        "    reward = 0\n",
        "    # reward for decreasing nn depth\n",
        "    optimal_depth_reward = 0\n",
        "    # reward by metrics\n",
        "    metrics_optimization_reward = 0\n",
        "    # reward for successfull nn creation\n",
        "    creation_successfull_reward = 0\n",
        "    if nn_created_correctly_flag == True:\n",
        "      # do not reward agent if creation is not succeed\n",
        "      creation_successfull_reward += self.NN_CREATE_SUCCESS_REWARD\n",
        "      # TODO\n",
        "      metrics_optimization_reward += 1\n",
        "      # TODO\n",
        "      optimal_depth_reward\n",
        "\n",
        "    else:\n",
        "      creation_successfull_reward += self.NN_CREATE_NOT_SUCCESS_PENALTY\n",
        "\n",
        "    reward += optimal_depth_reward\n",
        "    reward += metrics_optimization_reward\n",
        "    reward += creation_successfull_reward\n",
        "\n",
        "    return reward\n",
        "\n",
        "  def create_obs(self):\n",
        "    # TODO create new observation using\n",
        "    # self.NN_PARAMS['metrics'] and self.last_obs\n",
        "    obs = np.zeros((\n",
        "              self.NN_PARAMS['last_nets_metrics_memory_len'],\n",
        "              self.NN_PARAMS['train_epochs'],\n",
        "              len(self.NN_PARAMS['metrics'].keys()),\n",
        "             ) )\n",
        "    return obs\n",
        "\n",
        "  def step(self, action):\n",
        "      reward = 0\n",
        "      done = False\n",
        "      info = {} # You may need to add some extra information\n",
        "\n",
        "      '''\n",
        "      1) parse action\n",
        "      2) generate NN\n",
        "      3) (optionally) update optimizer, prepare for training\n",
        "      4) train NN, collect metrics\n",
        "      5) calculate reward\n",
        "      6) collect statistics\n",
        "      7) create new observation\n",
        "      8) return obs, reward, done, info\n",
        "      '''\n",
        "      reward = 0\n",
        "\n",
        "      self.nngenerator.parse_action(action)\n",
        "      success_state, backbone, classifier = self.nngenerator.generateNN()\n",
        "      if success_state == True: # NN created_correctly\n",
        "        self.Net.backbone = backbone\n",
        "        self.Net.classifier = classifier\n",
        "        self.train()\n",
        "\n",
        "\n",
        "      reward = self.calc_reward(success_state,\n",
        "                                self.nngenerator.get_nn_len(),\n",
        "                                self.NN_PARAMS['metrics'],\n",
        "                                )\n",
        "\n",
        "      # TODO generate new observation\n",
        "      new_obs = self.create_obs()\n",
        "\n",
        "      current_obs = {\n",
        "          'last_nets_metrics_memory': new_obs\n",
        "          }\n",
        "\n",
        "      self.last_obs = new_obs\n",
        "\n",
        "      self.episode_reward = reward\n",
        "      self.current_it += 1\n",
        "      return current_obs, reward, done, info\n",
        "\n",
        "\n",
        "  def reset(self):\n",
        "      '''\n",
        "      Reset the env\n",
        "      '''\n",
        "      # clearify all changable vars\n",
        "      self.Net = None\n",
        "      if self.optimizer is not None:\n",
        "        self.optimizer = self.optimizer.zero_grad()\n",
        "      # self.criterion = None\n",
        "      # may be it's better to set random number over zeros\n",
        "      current_obs = {\n",
        "          'last_nets_metrics_memory': np.zeros((\n",
        "              self.NN_PARAMS['last_nets_metrics_memory_len'],\n",
        "              self.NN_PARAMS['train_epochs'],\n",
        "              len(self.NN_PARAMS['metrics'].keys()),\n",
        "             ) )\n",
        "          }\n",
        "      self.last_obs = current_obs\n",
        "      self.episode_reward = 0\n",
        "      self.current_it = 1\n",
        "\n",
        "      self.statistics['episode_rewards'] = []\n",
        "      self.statistics['made_steps'] = []\n",
        "\n",
        "      return current_obs\n",
        "\n",
        "\n",
        "\n",
        "  def render(self, mode=None):\n",
        "    #TODO visualization\n",
        "    pass\n",
        "\n",
        "\n",
        "  def close(self):\n",
        "      pass"
      ],
      "metadata": {
        "id": "NFb8q3Fw4SCe"
      },
      "execution_count": 103,
      "outputs": []
    },
    {
      "cell_type": "code",
      "source": [
        "env = env()"
      ],
      "metadata": {
        "id": "M9Y10vCXf8uJ"
      },
      "execution_count": 104,
      "outputs": []
    },
    {
      "cell_type": "code",
      "source": [
        "env.reset()"
      ],
      "metadata": {
        "colab": {
          "base_uri": "https://localhost:8080/"
        },
        "id": "JBAjMsGho6cZ",
        "outputId": "e5d9c675-4edb-43a1-b9a8-7e69318178c4"
      },
      "execution_count": 105,
      "outputs": [
        {
          "output_type": "execute_result",
          "data": {
            "text/plain": [
              "{'last_nets_metrics_memory': array([[[0., 0.],\n",
              "         [0., 0.],\n",
              "         [0., 0.],\n",
              "         [0., 0.],\n",
              "         [0., 0.],\n",
              "         [0., 0.],\n",
              "         [0., 0.],\n",
              "         [0., 0.],\n",
              "         [0., 0.],\n",
              "         [0., 0.]],\n",
              " \n",
              "        [[0., 0.],\n",
              "         [0., 0.],\n",
              "         [0., 0.],\n",
              "         [0., 0.],\n",
              "         [0., 0.],\n",
              "         [0., 0.],\n",
              "         [0., 0.],\n",
              "         [0., 0.],\n",
              "         [0., 0.],\n",
              "         [0., 0.]],\n",
              " \n",
              "        [[0., 0.],\n",
              "         [0., 0.],\n",
              "         [0., 0.],\n",
              "         [0., 0.],\n",
              "         [0., 0.],\n",
              "         [0., 0.],\n",
              "         [0., 0.],\n",
              "         [0., 0.],\n",
              "         [0., 0.],\n",
              "         [0., 0.]],\n",
              " \n",
              "        [[0., 0.],\n",
              "         [0., 0.],\n",
              "         [0., 0.],\n",
              "         [0., 0.],\n",
              "         [0., 0.],\n",
              "         [0., 0.],\n",
              "         [0., 0.],\n",
              "         [0., 0.],\n",
              "         [0., 0.],\n",
              "         [0., 0.]],\n",
              " \n",
              "        [[0., 0.],\n",
              "         [0., 0.],\n",
              "         [0., 0.],\n",
              "         [0., 0.],\n",
              "         [0., 0.],\n",
              "         [0., 0.],\n",
              "         [0., 0.],\n",
              "         [0., 0.],\n",
              "         [0., 0.],\n",
              "         [0., 0.]],\n",
              " \n",
              "        [[0., 0.],\n",
              "         [0., 0.],\n",
              "         [0., 0.],\n",
              "         [0., 0.],\n",
              "         [0., 0.],\n",
              "         [0., 0.],\n",
              "         [0., 0.],\n",
              "         [0., 0.],\n",
              "         [0., 0.],\n",
              "         [0., 0.]],\n",
              " \n",
              "        [[0., 0.],\n",
              "         [0., 0.],\n",
              "         [0., 0.],\n",
              "         [0., 0.],\n",
              "         [0., 0.],\n",
              "         [0., 0.],\n",
              "         [0., 0.],\n",
              "         [0., 0.],\n",
              "         [0., 0.],\n",
              "         [0., 0.]],\n",
              " \n",
              "        [[0., 0.],\n",
              "         [0., 0.],\n",
              "         [0., 0.],\n",
              "         [0., 0.],\n",
              "         [0., 0.],\n",
              "         [0., 0.],\n",
              "         [0., 0.],\n",
              "         [0., 0.],\n",
              "         [0., 0.],\n",
              "         [0., 0.]],\n",
              " \n",
              "        [[0., 0.],\n",
              "         [0., 0.],\n",
              "         [0., 0.],\n",
              "         [0., 0.],\n",
              "         [0., 0.],\n",
              "         [0., 0.],\n",
              "         [0., 0.],\n",
              "         [0., 0.],\n",
              "         [0., 0.],\n",
              "         [0., 0.]],\n",
              " \n",
              "        [[0., 0.],\n",
              "         [0., 0.],\n",
              "         [0., 0.],\n",
              "         [0., 0.],\n",
              "         [0., 0.],\n",
              "         [0., 0.],\n",
              "         [0., 0.],\n",
              "         [0., 0.],\n",
              "         [0., 0.],\n",
              "         [0., 0.]]])}"
            ]
          },
          "metadata": {},
          "execution_count": 105
        }
      ]
    },
    {
      "cell_type": "code",
      "source": [
        "env.step(\"dropout=p:0.2-dropout=p:0.2-dropout=p:0.2-\")"
      ],
      "metadata": {
        "colab": {
          "base_uri": "https://localhost:8080/"
        },
        "id": "uBE4SOtZpPzc",
        "outputId": "f2d464bd-7e96-4303-c005-ea81c2f8054b"
      },
      "execution_count": 106,
      "outputs": [
        {
          "output_type": "execute_result",
          "data": {
            "text/plain": [
              "({'last_nets_metrics_memory': array([[[0., 0.],\n",
              "          [0., 0.],\n",
              "          [0., 0.],\n",
              "          [0., 0.],\n",
              "          [0., 0.],\n",
              "          [0., 0.],\n",
              "          [0., 0.],\n",
              "          [0., 0.],\n",
              "          [0., 0.],\n",
              "          [0., 0.]],\n",
              "  \n",
              "         [[0., 0.],\n",
              "          [0., 0.],\n",
              "          [0., 0.],\n",
              "          [0., 0.],\n",
              "          [0., 0.],\n",
              "          [0., 0.],\n",
              "          [0., 0.],\n",
              "          [0., 0.],\n",
              "          [0., 0.],\n",
              "          [0., 0.]],\n",
              "  \n",
              "         [[0., 0.],\n",
              "          [0., 0.],\n",
              "          [0., 0.],\n",
              "          [0., 0.],\n",
              "          [0., 0.],\n",
              "          [0., 0.],\n",
              "          [0., 0.],\n",
              "          [0., 0.],\n",
              "          [0., 0.],\n",
              "          [0., 0.]],\n",
              "  \n",
              "         [[0., 0.],\n",
              "          [0., 0.],\n",
              "          [0., 0.],\n",
              "          [0., 0.],\n",
              "          [0., 0.],\n",
              "          [0., 0.],\n",
              "          [0., 0.],\n",
              "          [0., 0.],\n",
              "          [0., 0.],\n",
              "          [0., 0.]],\n",
              "  \n",
              "         [[0., 0.],\n",
              "          [0., 0.],\n",
              "          [0., 0.],\n",
              "          [0., 0.],\n",
              "          [0., 0.],\n",
              "          [0., 0.],\n",
              "          [0., 0.],\n",
              "          [0., 0.],\n",
              "          [0., 0.],\n",
              "          [0., 0.]],\n",
              "  \n",
              "         [[0., 0.],\n",
              "          [0., 0.],\n",
              "          [0., 0.],\n",
              "          [0., 0.],\n",
              "          [0., 0.],\n",
              "          [0., 0.],\n",
              "          [0., 0.],\n",
              "          [0., 0.],\n",
              "          [0., 0.],\n",
              "          [0., 0.]],\n",
              "  \n",
              "         [[0., 0.],\n",
              "          [0., 0.],\n",
              "          [0., 0.],\n",
              "          [0., 0.],\n",
              "          [0., 0.],\n",
              "          [0., 0.],\n",
              "          [0., 0.],\n",
              "          [0., 0.],\n",
              "          [0., 0.],\n",
              "          [0., 0.]],\n",
              "  \n",
              "         [[0., 0.],\n",
              "          [0., 0.],\n",
              "          [0., 0.],\n",
              "          [0., 0.],\n",
              "          [0., 0.],\n",
              "          [0., 0.],\n",
              "          [0., 0.],\n",
              "          [0., 0.],\n",
              "          [0., 0.],\n",
              "          [0., 0.]],\n",
              "  \n",
              "         [[0., 0.],\n",
              "          [0., 0.],\n",
              "          [0., 0.],\n",
              "          [0., 0.],\n",
              "          [0., 0.],\n",
              "          [0., 0.],\n",
              "          [0., 0.],\n",
              "          [0., 0.],\n",
              "          [0., 0.],\n",
              "          [0., 0.]],\n",
              "  \n",
              "         [[0., 0.],\n",
              "          [0., 0.],\n",
              "          [0., 0.],\n",
              "          [0., 0.],\n",
              "          [0., 0.],\n",
              "          [0., 0.],\n",
              "          [0., 0.],\n",
              "          [0., 0.],\n",
              "          [0., 0.],\n",
              "          [0., 0.]]])},\n",
              " -5,\n",
              " False,\n",
              " {})"
            ]
          },
          "metadata": {},
          "execution_count": 106
        }
      ]
    },
    {
      "cell_type": "code",
      "source": [
        "train_data = dsets.MNIST(root = './data', train = True,\n",
        "                        transform = transforms.ToTensor(), download = True)\n",
        "\n",
        "test_data = dsets.MNIST(root = './data', train = False,\n",
        "                       transform = transforms.ToTensor())"
      ],
      "metadata": {
        "id": "SXe_a9lvoqyO"
      },
      "execution_count": null,
      "outputs": []
    },
    {
      "cell_type": "code",
      "source": [
        "train_samples = np.expand_dims(np.array(train_data.data), axis=1)[:5000]"
      ],
      "metadata": {
        "id": "xK-hNsEiqdcS"
      },
      "execution_count": null,
      "outputs": []
    },
    {
      "cell_type": "code",
      "source": [
        "train_labels = np.array(train_data.targets)[:5000]"
      ],
      "metadata": {
        "id": "r-aDhO7qq2kT"
      },
      "execution_count": null,
      "outputs": []
    },
    {
      "cell_type": "code",
      "source": [
        "\n",
        "class myDataset(Dataset):\n",
        "    def __init__(self, X, y):\n",
        "\n",
        "      self.X = X\n",
        "      self.y = y\n",
        "\n",
        "    def __len__(self):\n",
        "        return len(self.y)\n",
        "\n",
        "    def __getitem__(self, idx):\n",
        "        x_ = self.X[idx]\n",
        "        y_ = self.y[idx]\n",
        "        return x_, y_"
      ],
      "metadata": {
        "id": "NiJku9rmrHy6"
      },
      "execution_count": null,
      "outputs": []
    },
    {
      "cell_type": "code",
      "source": [
        "dataset = myDataset(X=train_samples, y=train_labels)"
      ],
      "metadata": {
        "id": "mAjrBApqruzk"
      },
      "execution_count": null,
      "outputs": []
    },
    {
      "cell_type": "code",
      "source": [
        "train_set, valid_set = torch.utils.data.random_split(dataset, [0.8, 0.2], generator=torch.Generator().manual_seed(42))"
      ],
      "metadata": {
        "id": "a0N1KCO0rbFV"
      },
      "execution_count": null,
      "outputs": []
    },
    {
      "cell_type": "code",
      "source": [
        "\n",
        "train_dataloader = torch.utils.data.DataLoader(\n",
        "  train_set,\n",
        "  batch_size=batch_size,\n",
        "  shuffle=True,\n",
        "  drop_last=True)\n",
        "\n",
        "valid_dataloader = torch.utils.data.DataLoader(\n",
        "  valid_set,\n",
        "  batch_size=batch_size,\n",
        "  drop_last=True,\n",
        "  shuffle=True)"
      ],
      "metadata": {
        "id": "ZWZugDc2rrtL"
      },
      "execution_count": null,
      "outputs": []
    },
    {
      "cell_type": "code",
      "source": [
        "env.set_train_dataloader(train_dataloader)\n",
        "env.set_valid_dataloader(valid_dataloader)"
      ],
      "metadata": {
        "id": "KidTZzShr2v7"
      },
      "execution_count": null,
      "outputs": []
    },
    {
      "cell_type": "code",
      "source": [
        "env.set_criterion(torch.nn.CrossEntropyLoss())\n",
        "env.set_optimizer(torch.optim.SGD(env.NN.parameters(), lr=lr))"
      ],
      "metadata": {
        "id": "H9WTNWQntXN3"
      },
      "execution_count": null,
      "outputs": []
    },
    {
      "cell_type": "code",
      "source": [
        "env.train()"
      ],
      "metadata": {
        "colab": {
          "base_uri": "https://localhost:8080/"
        },
        "id": "I0XVTudLr_zQ",
        "outputId": "f930db2b-9425-4758-b8cf-315956476764"
      },
      "execution_count": null,
      "outputs": [
        {
          "output_type": "stream",
          "name": "stderr",
          "text": [
            "100%|██████████| 125/125 [00:01<00:00, 67.06it/s]\n"
          ]
        },
        {
          "output_type": "stream",
          "name": "stdout",
          "text": [
            "Train Loss : 490.178558\n"
          ]
        },
        {
          "output_type": "stream",
          "name": "stderr",
          "text": [
            "100%|██████████| 125/125 [00:02<00:00, 60.31it/s]\n"
          ]
        },
        {
          "output_type": "stream",
          "name": "stdout",
          "text": [
            "Train Loss : 485.136169\n"
          ]
        },
        {
          "output_type": "stream",
          "name": "stderr",
          "text": [
            "100%|██████████| 125/125 [00:01<00:00, 74.70it/s]\n"
          ]
        },
        {
          "output_type": "stream",
          "name": "stdout",
          "text": [
            "Train Loss : 481.926880\n"
          ]
        },
        {
          "output_type": "stream",
          "name": "stderr",
          "text": [
            "100%|██████████| 125/125 [00:01<00:00, 75.41it/s]\n"
          ]
        },
        {
          "output_type": "stream",
          "name": "stdout",
          "text": [
            "Train Loss : 480.305450\n"
          ]
        },
        {
          "output_type": "stream",
          "name": "stderr",
          "text": [
            "100%|██████████| 125/125 [00:01<00:00, 76.00it/s]\n"
          ]
        },
        {
          "output_type": "stream",
          "name": "stdout",
          "text": [
            "Train Loss : 479.286804\n"
          ]
        },
        {
          "output_type": "stream",
          "name": "stderr",
          "text": [
            "100%|██████████| 125/125 [00:01<00:00, 69.38it/s]\n"
          ]
        },
        {
          "output_type": "stream",
          "name": "stdout",
          "text": [
            "Train Loss : 478.420776\n"
          ]
        },
        {
          "output_type": "stream",
          "name": "stderr",
          "text": [
            "100%|██████████| 125/125 [00:02<00:00, 60.14it/s]\n"
          ]
        },
        {
          "output_type": "stream",
          "name": "stdout",
          "text": [
            "Train Loss : 477.736420\n"
          ]
        },
        {
          "output_type": "stream",
          "name": "stderr",
          "text": [
            "100%|██████████| 125/125 [00:02<00:00, 59.43it/s]\n"
          ]
        },
        {
          "output_type": "stream",
          "name": "stdout",
          "text": [
            "Train Loss : 477.123596\n"
          ]
        },
        {
          "output_type": "stream",
          "name": "stderr",
          "text": [
            "100%|██████████| 125/125 [00:01<00:00, 74.26it/s]\n"
          ]
        },
        {
          "output_type": "stream",
          "name": "stdout",
          "text": [
            "Train Loss : 476.843506\n"
          ]
        },
        {
          "output_type": "stream",
          "name": "stderr",
          "text": [
            "100%|██████████| 125/125 [00:01<00:00, 77.46it/s]"
          ]
        },
        {
          "output_type": "stream",
          "name": "stdout",
          "text": [
            "Train Loss : 476.379364\n"
          ]
        },
        {
          "output_type": "stream",
          "name": "stderr",
          "text": [
            "\n"
          ]
        },
        {
          "output_type": "execute_result",
          "data": {
            "text/plain": [
              "([tensor(490.1786),\n",
              "  tensor(485.1362),\n",
              "  tensor(481.9269),\n",
              "  tensor(480.3055),\n",
              "  tensor(479.2868),\n",
              "  tensor(478.4208),\n",
              "  tensor(477.7364),\n",
              "  tensor(477.1236),\n",
              "  tensor(476.8435),\n",
              "  tensor(476.3794)],\n",
              " [])"
            ]
          },
          "metadata": {},
          "execution_count": 514
        }
      ]
    },
    {
      "cell_type": "code",
      "source": [
        "# PyTorch 2D layers with parameters\n",
        "# conv2d() + relu\n",
        "# torch.nn.Conv2d(\n",
        "#     in_channels,\n",
        "#     out_channels,\n",
        "#     kernel_size,\n",
        "#     stride=1,\n",
        "#     padding=0,\n",
        "#     dilation=1,\n",
        "#     groups=1,\n",
        "#     bias=True,\n",
        "#     padding_mode='zeros',\n",
        "#     device=None,\n",
        "#     dtype=None\n",
        "#     )\n",
        "\n",
        "# batchnorm2d()\n",
        "# torch.nn.BatchNorm2d(\n",
        "#     num_features,\n",
        "#     eps=1e-05,\n",
        "#     momentum=0.1,\n",
        "#     #affine=True,\n",
        "#     #track_running_stats=True,\n",
        "#     #device=None,\n",
        "#     #dtype=None\n",
        "#     )\n",
        "\n",
        "# avgpool2d()\n",
        "# torch.nn.AvgPool2d(\n",
        "#     kernel_size,\n",
        "#     stride=None,\n",
        "#     padding=0,\n",
        "#     #ceil_mode=False,\n",
        "#     #count_include_pad=True,\n",
        "#     #divisor_override=None\n",
        "#     )\n",
        "\n",
        "# maxpool2d()\n",
        "# torch.nn.MaxPool2d(\n",
        "#     kernel_size,\n",
        "#     stride=None,\n",
        "#     padding=0,\n",
        "#     dilation=1,\n",
        "#     return_indices=False,\n",
        "#     ceil_mode=False)\n",
        "\n",
        "# dropout()\n",
        "# torch.nn.Dropout2d(\n",
        "#     p=0.5,\n",
        "#     #inplace=False\n",
        "#     )"
      ],
      "metadata": {
        "id": "Eta3MgpLsCeQ"
      },
      "execution_count": null,
      "outputs": []
    },
    {
      "cell_type": "code",
      "source": [
        "t = spaces.Text(max_length=10, min_length=3,charset={'conv=channel_factor:2,kernel_size:3,stride:1,padding:0-',\n",
        "                                                     'conv=channel_factor:0.5,kernel_size:3,stride:1,padding:0-',\n",
        "                                                     'batchnorm=eps:0.00001-',\n",
        "                                                     'avgpool=kernel_size:2,stride:2,padding:0-',\n",
        "                                                     'avgpool=kernel_size:3,stride:2,padding:0-',\n",
        "                                                     'maxpool=kernel_size:2,stride:2,padding:0-',\n",
        "                                                     'maxpool=kernel_size:3,stride:2,padding:0-',\n",
        "                                                     'dropout=p:0.1-',\n",
        "                                                     'dropout=p:0.2-',\n",
        "                                                     })"
      ],
      "metadata": {
        "id": "gmj83PwgV-r7"
      },
      "execution_count": 70,
      "outputs": []
    },
    {
      "cell_type": "code",
      "source": [
        "action = t.sample()"
      ],
      "metadata": {
        "id": "vZ2jpamSWGBd"
      },
      "execution_count": 71,
      "outputs": []
    },
    {
      "cell_type": "code",
      "source": [
        "action"
      ],
      "metadata": {
        "colab": {
          "base_uri": "https://localhost:8080/",
          "height": 35
        },
        "id": "VjiCg3jW91vH",
        "outputId": "864c4454-2a38-4ab6-bc6e-3277406e3db0"
      },
      "execution_count": 72,
      "outputs": [
        {
          "output_type": "execute_result",
          "data": {
            "text/plain": [
              "'batchnorm=eps:0.00001-maxpool=kernel_size:2,stride:2,padding:0-avgpool=kernel_size:3,stride:2,padding:0-maxpool=kernel_size:2,stride:2,padding:0-'"
            ],
            "application/vnd.google.colaboratory.intrinsic+json": {
              "type": "string"
            }
          },
          "metadata": {},
          "execution_count": 72
        }
      ]
    },
    {
      "cell_type": "code",
      "source": [
        "class actionParser():\n",
        "  def __init__(self):\n",
        "    self.text_layers_dict = dict({})\n",
        "    pass\n",
        "\n",
        "  def parse_action(self, action):\n",
        "    if action[-1] == '-':\n",
        "      action = action[:-1]\n",
        "    text_layers = action.split('-')\n",
        "    for text_layer in text_layers:\n",
        "      tmp = text_layer.split('=')\n",
        "      layer_name, layer_params = tmp[0], tmp[1].split(',')\n",
        "      layer_params_dict = dict({})\n",
        "      for param in layer_params:\n",
        "        param = param.split(':')\n",
        "        param_name, param_value = param[0], param[1]\n",
        "        layer_params_dict[param_name] = param_value\n",
        "      self.text_layers_dict[layer_name] = layer_params_dict\n",
        "\n",
        "  def get_text_layers_dict(self):\n",
        "    return self.text_layers_dict"
      ],
      "metadata": {
        "id": "ZsHoTVQ976Jg"
      },
      "execution_count": 73,
      "outputs": []
    },
    {
      "cell_type": "code",
      "source": [
        "parser = actionParser()\n",
        "parser.parse_action(action)\n",
        "res = parser.get_text_layers_dict()\n",
        "for r in res.keys():\n",
        "  print(r, res[r])"
      ],
      "metadata": {
        "id": "qmy0QUJRxF37",
        "colab": {
          "base_uri": "https://localhost:8080/"
        },
        "outputId": "a55cc643-53cb-4809-ea5b-276adabc8f28"
      },
      "execution_count": 74,
      "outputs": [
        {
          "output_type": "stream",
          "name": "stdout",
          "text": [
            "batchnorm {'eps': '0.00001'}\n",
            "maxpool {'kernel_size': '2', 'stride': '2', 'padding': '0'}\n",
            "avgpool {'kernel_size': '3', 'stride': '2', 'padding': '0'}\n"
          ]
        }
      ]
    }
  ]
}